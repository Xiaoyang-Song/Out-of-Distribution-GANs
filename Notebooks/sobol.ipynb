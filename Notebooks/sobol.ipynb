{
 "cells": [
  {
   "cell_type": "code",
   "execution_count": 1,
   "metadata": {},
   "outputs": [],
   "source": [
    "%load_ext autoreload\n",
    "%autoreload 2"
   ]
  },
  {
   "cell_type": "code",
   "execution_count": 2,
   "metadata": {},
   "outputs": [],
   "source": [
    "try:\n",
    "  import google.colab\n",
    "  IN_COLAB = True\n",
    "except:\n",
    "  IN_COLAB = False\n",
    "import sys\n",
    "import time, os\n",
    "if IN_COLAB:\n",
    "    from google.colab import drive\n",
    "    drive.mount('/content/drive')\n",
    "    GOOGLE_DRIVE_PATH_AFTER_MYDRIVE = \"Out-of-Distribution-GANs\"\n",
    "    GOOGLE_DRIVE_PATH = os.path.join('drive', 'My Drive', GOOGLE_DRIVE_PATH_AFTER_MYDRIVE)\n",
    "    print(os.listdir(GOOGLE_DRIVE_PATH))\n",
    "    sys.path.append(GOOGLE_DRIVE_PATH)\n",
    "else:\n",
    "    sys.path.insert(0, '../')\n",
    "os.environ[\"TZ\"] = \"US/Eastern\"\n",
    "time.tzset()"
   ]
  },
  {
   "cell_type": "code",
   "execution_count": 5,
   "metadata": {},
   "outputs": [],
   "source": [
    "from config import *\n"
   ]
  },
  {
   "cell_type": "code",
   "execution_count": 22,
   "metadata": {},
   "outputs": [
    {
     "name": "stderr",
     "output_type": "stream",
     "text": [
      "ic| a.shape: torch.Size([10, 5, 1])\n",
      "ic| b.shape: torch.Size([3, 5, 1])\n",
      "ic| b.T.shape: torch.Size([1, 5, 3])\n",
      "ic| c.shape: torch.Size([10, 5, 3])\n",
      "ic| d.shape: torch.Size([10, 3])\n",
      "ic| d: tensor([[1.1180, 1.1180, 1.1180],\n",
      "               [1.1180, 1.1180, 1.1180],\n",
      "               [1.1180, 1.1180, 1.1180],\n",
      "               [1.1180, 1.1180, 1.1180],\n",
      "               [1.1180, 1.1180, 1.1180],\n",
      "               [1.1180, 1.1180, 1.1180],\n",
      "               [1.1180, 1.1180, 1.1180],\n",
      "               [1.1180, 1.1180, 1.1180],\n",
      "               [1.1180, 1.1180, 1.1180],\n",
      "               [1.1180, 1.1180, 1.1180]])\n",
      "ic| ((0.5**2) * 5)**0.5: 1.118033988749895\n"
     ]
    },
    {
     "data": {
      "text/plain": [
       "1.118033988749895"
      ]
     },
     "execution_count": 22,
     "metadata": {},
     "output_type": "execute_result"
    }
   ],
   "source": [
    "a = torch.ones((10,5)).unsqueeze(-1)\n",
    "b = torch.zeros((3,5)).unsqueeze(-1) + 0.5\n",
    "ic(a.shape)\n",
    "ic(b.shape)\n",
    "ic(b.T.shape)\n",
    "\n",
    "c = a - b.T\n",
    "d = c.norm(dim=1)\n",
    "ic(c.shape)\n",
    "ic(d.shape)\n",
    "ic(d)\n",
    "ic(((0.5**2) * 5)**0.5)"
   ]
  },
  {
   "cell_type": "code",
   "execution_count": 46,
   "metadata": {},
   "outputs": [
    {
     "name": "stderr",
     "output_type": "stream",
     "text": [
      "ic| res.shape: torch.Size([10, 2, 1])\n",
      "ic| idx.shape: torch.Size([10, 2])\n",
      "ic| a.shape: torch.Size([10, 5, 1])\n",
      "ic| b.shape: torch.Size([3, 5, 1])\n",
      "ic| b[idx[0]].shape: torch.Size([2, 5, 1])\n",
      "ic| x.shape: torch.Size([20, 5, 1])\n"
     ]
    },
    {
     "data": {
      "text/plain": [
       "torch.Size([20, 5, 1])"
      ]
     },
     "execution_count": 46,
     "metadata": {},
     "output_type": "execute_result"
    }
   ],
   "source": [
    "res, idx = torch.topk(a,dim=1,k=2)\n",
    "ic(res.shape)\n",
    "idx = idx.squeeze()\n",
    "ic(idx.shape)\n",
    "ic(a.shape)\n",
    "ic(b.shape)\n",
    "ic(b[idx[0]].shape)\n",
    "y = [b[i.squeeze()] for i in idx]\n",
    "x = torch.cat([b[i.squeeze()] for i in idx])\n",
    "ic(x.shape)"
   ]
  }
 ],
 "metadata": {
  "interpreter": {
   "hash": "aee8b7b246df8f9039afb4144a1f6fd8d2ca17a180786b69acc140d282b71a49"
  },
  "kernelspec": {
   "display_name": "Python 3.9.7 64-bit",
   "language": "python",
   "name": "python3"
  },
  "language_info": {
   "codemirror_mode": {
    "name": "ipython",
    "version": 3
   },
   "file_extension": ".py",
   "mimetype": "text/x-python",
   "name": "python",
   "nbconvert_exporter": "python",
   "pygments_lexer": "ipython3",
   "version": "3.8.5"
  },
  "orig_nbformat": 4
 },
 "nbformat": 4,
 "nbformat_minor": 2
}

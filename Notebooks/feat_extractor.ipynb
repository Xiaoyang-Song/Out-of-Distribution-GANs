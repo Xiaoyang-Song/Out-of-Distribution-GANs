{
 "cells": [
  {
   "cell_type": "markdown",
   "metadata": {},
   "source": [
    "### Pretrained Feature Extractor"
   ]
  },
  {
   "cell_type": "code",
   "execution_count": 8,
   "metadata": {},
   "outputs": [],
   "source": [
    "import sys\n",
    "sys.path.insert(0, '../')\n",
    "from config import *\n",
    "from dataset import MNIST,CIFAR10, MNIST_SUB"
   ]
  },
  {
   "cell_type": "code",
   "execution_count": 51,
   "metadata": {},
   "outputs": [],
   "source": [
    "from torchvision.models.feature_extraction import create_feature_extractor\n",
    "from torchvision.models.feature_extraction import get_graph_node_names\n",
    "from torchvision.models import resnet50, ResNet50_Weights\n",
    "\n",
    "weights = ResNet50_Weights.DEFAULT\n",
    "# I use ResNet for now, but can be changed to other model\n",
    "# Will use ViT in the future\n",
    "model = resnet50(weights=weights)\n",
    "\n",
    "# model.eval()\n",
    "nodes, _ = get_graph_node_names(model)"
   ]
  },
  {
   "cell_type": "code",
   "execution_count": 9,
   "metadata": {},
   "outputs": [],
   "source": [
    "ind_idx = [0,2,3,6,8]\n",
    "ood_idx = [1,7]\n",
    "# TODO: Use classifier on 1,4,5,7,9, check wass loss\n",
    "# test_idx = [4,5,9]\n",
    "mnist_dset_dict = MNIST_SUB(batch_size=128, val_batch_size=64, idx_ind=ind_idx, idx_ood=ood_idx, shuffle=True)"
   ]
  },
  {
   "cell_type": "code",
   "execution_count": 10,
   "metadata": {},
   "outputs": [],
   "source": [
    "ind_train_loader = mnist_dset_dict['train_set_ind_loader']\n",
    "ind_val_loader = mnist_dset_dict['val_set_ind_loader']"
   ]
  },
  {
   "cell_type": "code",
   "execution_count": 52,
   "metadata": {},
   "outputs": [
    {
     "name": "stdout",
     "output_type": "stream",
     "text": [
      "ImageClassification(\n",
      "    crop_size=[224]\n",
      "    resize_size=[232]\n",
      "    mean=[0.485, 0.456, 0.406]\n",
      "    std=[0.229, 0.224, 0.225]\n",
      "    interpolation=InterpolationMode.BILINEAR\n",
      ")\n"
     ]
    }
   ],
   "source": [
    "# print(nodes)\n",
    "preprocess = weights.transforms()\n",
    "# Bilinear interpolation is important !\n",
    "print(preprocess)"
   ]
  },
  {
   "cell_type": "code",
   "execution_count": 22,
   "metadata": {},
   "outputs": [],
   "source": [
    "x, y = next(iter(ind_train_loader))\n",
    "# Temporary test\n",
    "x = torch.repeat_interleave(x, 3, 1) # This is needed just for testing; for CIFAR, ImageNet this is not needed.\n",
    "# print(preprocess(x))"
   ]
  },
  {
   "cell_type": "code",
   "execution_count": 49,
   "metadata": {},
   "outputs": [],
   "source": [
    "# CAUTION: get rid of the last three layers !\n",
    "# print(nodes)\n",
    "# print(nodes[:-3])\n",
    "valid = nodes[:-3]\n",
    "feat_extractor = create_feature_extractor(\n",
    "\tmodel, return_nodes=valid)"
   ]
  },
  {
   "cell_type": "code",
   "execution_count": 50,
   "metadata": {},
   "outputs": [
    {
     "name": "stdout",
     "output_type": "stream",
     "text": [
      "torch.Size([128, 2048, 1, 1])\n"
     ]
    }
   ],
   "source": [
    "feat_extractor.requires_grad_(False)\n",
    "out = feat_extractor(x)\n",
    "print(out[valid[-1]].shape)"
   ]
  }
 ],
 "metadata": {
  "interpreter": {
   "hash": "aee8b7b246df8f9039afb4144a1f6fd8d2ca17a180786b69acc140d282b71a49"
  },
  "kernelspec": {
   "display_name": "Python 3.9.7 64-bit",
   "language": "python",
   "name": "python3"
  },
  "language_info": {
   "codemirror_mode": {
    "name": "ipython",
    "version": 3
   },
   "file_extension": ".py",
   "mimetype": "text/x-python",
   "name": "python",
   "nbconvert_exporter": "python",
   "pygments_lexer": "ipython3",
   "version": "3.9.7"
  },
  "orig_nbformat": 4
 },
 "nbformat": 4,
 "nbformat_minor": 2
}

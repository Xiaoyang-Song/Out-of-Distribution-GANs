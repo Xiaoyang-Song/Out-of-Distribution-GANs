{
 "cells": [
  {
   "cell_type": "code",
   "execution_count": 11,
   "metadata": {},
   "outputs": [
    {
     "name": "stdout",
     "output_type": "stream",
     "text": [
      "The autoreload extension is already loaded. To reload it, use:\n",
      "  %reload_ext autoreload\n"
     ]
    }
   ],
   "source": [
    "%load_ext autoreload\n",
    "%autoreload 2"
   ]
  },
  {
   "cell_type": "code",
   "execution_count": 2,
   "metadata": {},
   "outputs": [
    {
     "name": "stdout",
     "output_type": "stream",
     "text": [
      "[KeOps] Warning : Cuda libraries were not detected on the system ; using cpu only mode\n"
     ]
    }
   ],
   "source": [
    "import sys\n",
    "sys.path.append(\"../\")\n",
    "import numpy as np\n",
    "from itertools import product\n",
    "from matplotlib import pyplot as plt\n",
    "import seaborn as sns\n",
    "from simulation import *"
   ]
  },
  {
   "attachments": {},
   "cell_type": "markdown",
   "metadata": {},
   "source": [
    "### Bivariate Normal Data Generation"
   ]
  },
  {
   "cell_type": "code",
   "execution_count": 3,
   "metadata": {},
   "outputs": [],
   "source": [
    "MU = {\n",
    "    1: [1,1],\n",
    "    2: [4,3],\n",
    "    3: [2,6],\n",
    "    4: [7,4]\n",
    "}\n",
    "\n",
    "COV = {\n",
    "    1: np.eye(2)*0.05,\n",
    "    2: np.eye(2)*0.05,\n",
    "    3: np.eye(2)*0.05,\n",
    "    4: np.eye(2)*0.05\n",
    "}\n",
    "\n",
    "N_SAMPLERS = 4\n",
    "SAMPLERS = {}\n",
    "for idx in range(1, N_SAMPLERS+1, 1):\n",
    "    SAMPLERS[idx] = N(MU[idx], COV[idx])"
   ]
  },
  {
   "cell_type": "code",
   "execution_count": 4,
   "metadata": {},
   "outputs": [],
   "source": [
    "n = 1000\n",
    "X_TRAIN, Y_TRAIN = {}, {}\n",
    "X_TEST, Y_TEST = {}, {}\n",
    "\n",
    "for cls in SAMPLERS:\n",
    "    X_TRAIN[cls] = SAMPLERS[cls].sample(n)\n",
    "    Y_TRAIN[cls] = np.array([cls]*n)\n",
    "    X_TEST[cls] = SAMPLERS[cls].sample(n)\n",
    "    Y_TEST[cls] = np.array([cls]*n)\n",
    "\n",
    "# Dataset\n",
    "def cls_to_dset(idxs, X, Y):\n",
    "    x, y = [], []\n",
    "    for idx in idxs:\n",
    "        x.extend(X[idx])\n",
    "        y.extend(Y[idx])\n",
    "    x = np.array(x)\n",
    "    y = np.array(y)\n",
    "    return list(zip(x, y)), x, y\n",
    "\n",
    "IND_CLS = [1, 2, 3]\n",
    "OOD_CLS = [4]\n",
    "IND_DATA, IND_X, IND_Y = cls_to_dset(IND_CLS, X_TRAIN, Y_TRAIN)\n",
    "OOD_DATA, OOD_X, OOD_Y = cls_to_dset(OOD_CLS, X_TRAIN, Y_TRAIN)\n",
    "IND_DATA_TEST, IND_X_TEST, IND_Y_TEST = cls_to_dset(IND_CLS, X_TEST, Y_TEST)\n",
    "OOD_DATA_TEST, OOD_X_TEST, OOD_Y_TEST = cls_to_dset(OOD_CLS, X_TEST, Y_TEST)\n"
   ]
  },
  {
   "cell_type": "code",
   "execution_count": 5,
   "metadata": {},
   "outputs": [
    {
     "data": {
      "image/png": "[encoded data removed]",
      "text/plain": [
       "<Figure size 432x288 with 1 Axes>"
      ]
     },
     "metadata": {
      "needs_background": "light"
     },
     "output_type": "display_data"
    }
   ],
   "source": [
    "plt.scatter(IND_X[:,0], IND_X[:,1], c='orange', label =\"InD\", alpha=0.10)\n",
    "plt.scatter(OOD_X[:,0], OOD_X[:,1], c='navy', label=\"OoD\", alpha=0.10)\n",
    "xi = np.linspace(0, 8, 100, endpoint=True)\n",
    "yi = np.linspace(0, 8, 100, endpoint=True)\n",
    "# xy_pos = list(product(x_pos, y_pos))\n",
    "x, y = np.concatenate((IND_X[:,0],OOD_X[:,0])), np.concatenate((IND_X[:,1],OOD_X[:,1]))\n",
    "nbins=300\n",
    "xi, yi = np.mgrid[x.min():x.max():nbins*1j, y.min():y.max():nbins*1j]\n",
    "plt.pcolormesh(xi, yi, xi, shading='auto', alpha=0.50)\n",
    "plt.title(\"Plot Title\")\n",
    "plt.xlabel(\"X\")\n",
    "plt.ylabel(\"Y\")\n",
    "plt.legend()\n",
    "plt.show()"
   ]
  },
  {
   "attachments": {},
   "cell_type": "markdown",
   "metadata": {},
   "source": [
    "### Naive Classifier Training"
   ]
  },
  {
   "cell_type": "code",
   "execution_count": 17,
   "metadata": {},
   "outputs": [
    {
     "name": "stderr",
     "output_type": "stream",
     "text": [
      "  5%|▍         | 3/64 [00:00<00:05, 11.14it/s]"
     ]
    },
    {
     "name": "stdout",
     "output_type": "stream",
     "text": [
      "Epoch  # 1 | Tri loss: 0.9567                     | Tri accuracy: 0.5866\n",
      "Epoch  # 1 | Val loss: 0.8274                     | Val accuracy: 0.6684\n"
     ]
    },
    {
     "name": "stderr",
     "output_type": "stream",
     "text": [
      " 20%|██        | 13/64 [00:00<00:03, 16.88it/s]"
     ]
    },
    {
     "name": "stdout",
     "output_type": "stream",
     "text": [
      "Epoch  # 11 | Tri loss: 0.0096                     | Tri accuracy: 1.0\n",
      "Epoch  # 11 | Val loss: 0.0076                     | Val accuracy: 1.0\n"
     ]
    },
    {
     "name": "stderr",
     "output_type": "stream",
     "text": [
      " 39%|███▉      | 25/64 [00:01<00:01, 21.57it/s]"
     ]
    },
    {
     "name": "stdout",
     "output_type": "stream",
     "text": [
      "Epoch  # 21 | Tri loss: 0.0009                     | Tri accuracy: 1.0\n",
      "Epoch  # 21 | Val loss: 0.0008                     | Val accuracy: 1.0\n"
     ]
    },
    {
     "name": "stderr",
     "output_type": "stream",
     "text": [
      " 53%|█████▎    | 34/64 [00:01<00:01, 22.78it/s]"
     ]
    },
    {
     "name": "stdout",
     "output_type": "stream",
     "text": [
      "Epoch  # 31 | Tri loss: 0.0003                     | Tri accuracy: 1.0\n",
      "Epoch  # 31 | Val loss: 0.0003                     | Val accuracy: 1.0\n"
     ]
    },
    {
     "name": "stderr",
     "output_type": "stream",
     "text": [
      " 67%|██████▋   | 43/64 [00:02<00:00, 21.76it/s]"
     ]
    },
    {
     "name": "stdout",
     "output_type": "stream",
     "text": [
      "Epoch  # 41 | Tri loss: 0.0002                     | Tri accuracy: 1.0\n",
      "Epoch  # 41 | Val loss: 0.0002                     | Val accuracy: 1.0\n"
     ]
    },
    {
     "name": "stderr",
     "output_type": "stream",
     "text": [
      " 81%|████████▏ | 52/64 [00:02<00:00, 18.75it/s]"
     ]
    },
    {
     "name": "stdout",
     "output_type": "stream",
     "text": [
      "Epoch  # 51 | Tri loss: 0.0001                     | Tri accuracy: 1.0\n",
      "Epoch  # 51 | Val loss: 0.0001                     | Val accuracy: 1.0\n"
     ]
    },
    {
     "name": "stderr",
     "output_type": "stream",
     "text": [
      "100%|██████████| 64/64 [00:03<00:00, 19.00it/s]"
     ]
    },
    {
     "name": "stdout",
     "output_type": "stream",
     "text": [
      "Epoch  # 61 | Tri loss: 0.0001                     | Tri accuracy: 1.0\n",
      "Epoch  # 61 | Val loss: 0.0001                     | Val accuracy: 1.0\n"
     ]
    },
    {
     "name": "stderr",
     "output_type": "stream",
     "text": [
      "\n"
     ]
    }
   ],
   "source": [
    "from tqdm import tqdm\n",
    "from simulation import classifier_training\n",
    "D = DSIM()\n",
    "# Configguration\n",
    "max_epoch = 64\n",
    "lr = 1e-3\n",
    "optimizer = torch.optim.Adam(D.parameters(), lr=lr, betas=(0.9, 0.999))\n",
    "criterion = nn.CrossEntropyLoss()\n",
    "# Dataset\n",
    "ind_tri_loader = torch.utils.data.DataLoader(IND_DATA, shuffle=True, batch_size=256)\n",
    "ind_val_loader = torch.utils.data.DataLoader(IND_DATA_TEST, shuffle=True, batch_size=256)\n",
    "# Training\n",
    "D = classifier_training(D, criterion, optimizer, ind_tri_loader, ind_val_loader, max_epoch)"
   ]
  },
  {
   "attachments": {},
   "cell_type": "markdown",
   "metadata": {},
   "source": [
    "#### Plot"
   ]
  },
  {
   "cell_type": "code",
   "execution_count": 18,
   "metadata": {},
   "outputs": [
    {
     "name": "stdout",
     "output_type": "stream",
     "text": [
      "torch.Size([2500, 3])\n"
     ]
    },
    {
     "data": {
      "image/png": "[encoded data removed]",
      "text/plain": [
       "<Figure size 432x288 with 1 Axes>"
      ]
     },
     "metadata": {
      "needs_background": "light"
     },
     "output_type": "display_data"
    }
   ],
   "source": [
    "from wasserstein import *\n",
    "plt.scatter(IND_X[:,0], IND_X[:,1], c='orange', label =\"InD\", alpha=0.05)\n",
    "plt.scatter(OOD_X[:,0], OOD_X[:,1], c='navy', label=\"OoD\", alpha=0.05)\n",
    "xi = np.linspace(0, 8, 50, endpoint=True)\n",
    "yi = np.linspace(0, 8, 50, endpoint=True)\n",
    "xy_pos = np.array(list(product(xi, yi)))\n",
    "x, y = np.concatenate((IND_X[:,0],OOD_X[:,0])), np.concatenate((IND_X[:,1],OOD_X[:,1]))\n",
    "nbins=50\n",
    "# xi, yi = np.mgrid[x.min():x.max():nbins*1j, y.min():y.max():nbins*1j]\n",
    "zi = torch.softmax(D(torch.tensor(xy_pos, dtype=torch.float32)), dim=-1)\n",
    "\n",
    "# zi = torch.softmax(D(torch.tensor(np.vstack([xi.flatten(), yi.flatten()]).T, dtype=torch.float32)), dim=-1)\n",
    "print(zi.shape)\n",
    "si = ood_wass_loss(zi)\n",
    "plt.pcolormesh(xi, yi, si.reshape((50,50)), shading='auto', alpha=1)\n",
    "plt.title(\"Plot Title\")\n",
    "plt.xlabel(\"X\")\n",
    "plt.ylabel(\"Y\")\n",
    "plt.legend()\n",
    "plt.show()"
   ]
  },
  {
   "attachments": {},
   "cell_type": "markdown",
   "metadata": {},
   "source": [
    "### WOOD Training"
   ]
  },
  {
   "cell_type": "code",
   "execution_count": 48,
   "metadata": {},
   "outputs": [
    {
     "name": "stdout",
     "output_type": "stream",
     "text": [
      "OOD Batch Shape: torch.Size([8, 2])\n"
     ]
    },
    {
     "name": "stderr",
     "output_type": "stream",
     "text": [
      "  2%|▏         | 1/64 [00:01<01:19,  1.27s/it]"
     ]
    },
    {
     "name": "stdout",
     "output_type": "stream",
     "text": [
      "Epoch  # 1 | Tri loss: 1.1121                     | Tri accuracy: 0.2138\n",
      "Epoch  # 1 | Val loss: 1.0762                     | Val accuracy: 0.332\n"
     ]
    },
    {
     "name": "stderr",
     "output_type": "stream",
     "text": [
      " 17%|█▋        | 11/64 [00:11<00:59,  1.12s/it]"
     ]
    },
    {
     "name": "stdout",
     "output_type": "stream",
     "text": [
      "Epoch  # 11 | Tri loss: 0.4332                     | Tri accuracy: 0.6673\n",
      "Epoch  # 11 | Val loss: 0.4544                     | Val accuracy: 0.6666\n"
     ]
    },
    {
     "name": "stderr",
     "output_type": "stream",
     "text": [
      " 33%|███▎      | 21/64 [00:23<00:48,  1.14s/it]"
     ]
    },
    {
     "name": "stdout",
     "output_type": "stream",
     "text": [
      "Epoch  # 21 | Tri loss: 0.2982                     | Tri accuracy: 0.9821\n",
      "Epoch  # 21 | Val loss: 0.3373                     | Val accuracy: 0.9863\n"
     ]
    },
    {
     "name": "stderr",
     "output_type": "stream",
     "text": [
      " 48%|████▊     | 31/64 [00:34<00:36,  1.11s/it]"
     ]
    },
    {
     "name": "stdout",
     "output_type": "stream",
     "text": [
      "Epoch  # 31 | Tri loss: 0.2108                     | Tri accuracy: 0.9993\n",
      "Epoch  # 31 | Val loss: 0.2495                     | Val accuracy: 0.9997\n"
     ]
    },
    {
     "name": "stderr",
     "output_type": "stream",
     "text": [
      " 64%|██████▍   | 41/64 [00:44<00:22,  1.00it/s]"
     ]
    },
    {
     "name": "stdout",
     "output_type": "stream",
     "text": [
      "Epoch  # 41 | Tri loss: 0.1054                     | Tri accuracy: 1.0\n",
      "Epoch  # 41 | Val loss: 0.1297                     | Val accuracy: 1.0\n"
     ]
    },
    {
     "name": "stderr",
     "output_type": "stream",
     "text": [
      " 80%|███████▉  | 51/64 [00:54<00:12,  1.04it/s]"
     ]
    },
    {
     "name": "stdout",
     "output_type": "stream",
     "text": [
      "Epoch  # 51 | Tri loss: 0.025                     | Tri accuracy: 1.0\n",
      "Epoch  # 51 | Val loss: 0.0614                     | Val accuracy: 1.0\n"
     ]
    },
    {
     "name": "stderr",
     "output_type": "stream",
     "text": [
      " 95%|█████████▌| 61/64 [01:04<00:03,  1.06s/it]"
     ]
    },
    {
     "name": "stdout",
     "output_type": "stream",
     "text": [
      "Epoch  # 61 | Tri loss: -0.0035                     | Tri accuracy: 1.0\n",
      "Epoch  # 61 | Val loss: 0.036                     | Val accuracy: 1.0\n"
     ]
    },
    {
     "name": "stderr",
     "output_type": "stream",
     "text": [
      "100%|██████████| 64/64 [01:07<00:00,  1.06s/it]\n"
     ]
    }
   ],
   "source": [
    "from simulation import *\n",
    "D_WOOD = DSIM()\n",
    "# OOD data preparation\n",
    "n_ood = 8\n",
    "ood_bsz = 8\n",
    "OOD_BATCH = torch.tensor(OOD_X[np.random.choice(n, n_ood, replace=False)], dtype=torch.float32)\n",
    "print(f\"OOD Batch Shape: {OOD_BATCH.shape}\")\n",
    "# Configuration\n",
    "max_epoch = 64\n",
    "lr = 1e-3\n",
    "beta = 0.1\n",
    "optimizer = torch.optim.Adam(D_WOOD.parameters(), lr=lr, betas=(0.9, 0.999))\n",
    "criterion = nn.CrossEntropyLoss()\n",
    "# Dataset\n",
    "ind_tri_loader = torch.utils.data.DataLoader(IND_DATA, shuffle=True, batch_size=256)\n",
    "ind_val_loader = torch.utils.data.DataLoader(IND_DATA_TEST, shuffle=True, batch_size=256)\n",
    "# Training\n",
    "D_WOOD = wood_training(D_WOOD, OOD_BATCH, ood_bsz, beta, criterion, optimizer, ind_tri_loader, ind_val_loader, max_epoch, n_epoch=10)"
   ]
  },
  {
   "cell_type": "code",
   "execution_count": 49,
   "metadata": {},
   "outputs": [
    {
     "name": "stdout",
     "output_type": "stream",
     "text": [
      "torch.Size([2500, 3])\n"
     ]
    },
    {
     "data": {
      "image/png": "[encoded data removed]",
      "text/plain": [
       "<Figure size 432x288 with 1 Axes>"
      ]
     },
     "metadata": {
      "needs_background": "light"
     },
     "output_type": "display_data"
    }
   ],
   "source": [
    "# 8\n",
    "from wasserstein import *\n",
    "plt.scatter(IND_X[:,0], IND_X[:,1], c='orange', label =\"InD\", alpha=0.05)\n",
    "# plt.scatter(OOD_X[:,0], OOD_X[:,1], c='navy', label=\"OoD\", alpha=0.05)\n",
    "plt.scatter(OOD_BATCH[:,0], OOD_BATCH[:,1], c='navy', label=\"OoD\", alpha=0.05)\n",
    "xi = np.linspace(0, 8, 50, endpoint=True)\n",
    "yi = np.linspace(0, 8, 50, endpoint=True)\n",
    "xy_pos = np.array(list(product(xi, yi)))\n",
    "zi = torch.softmax(D_WOOD(torch.tensor(xy_pos, dtype=torch.float32)), dim=-1)\n",
    "print(zi.shape)\n",
    "si = ood_wass_loss(zi)\n",
    "plt.pcolormesh(xi, yi, si.reshape((50,50)).T, shading='auto', alpha=0.8)\n",
    "plt.title(\"Plot Title\")\n",
    "plt.xlabel(\"X\")\n",
    "plt.ylabel(\"Y\")\n",
    "plt.legend()\n",
    "plt.show()"
   ]
  },
  {
   "cell_type": "code",
   "execution_count": 42,
   "metadata": {},
   "outputs": [
    {
     "name": "stdout",
     "output_type": "stream",
     "text": [
      "torch.Size([2500, 3])\n"
     ]
    },
    {
     "data": {
      "image/png": "[encoded data removed]",
      "text/plain": [
       "<Figure size 432x288 with 1 Axes>"
      ]
     },
     "metadata": {
      "needs_background": "light"
     },
     "output_type": "display_data"
    }
   ],
   "source": [
    "# 64\n",
    "from wasserstein import *\n",
    "plt.scatter(IND_X[:,0], IND_X[:,1], c='orange', label =\"InD\", alpha=0.05)\n",
    "# plt.scatter(OOD_X[:,0], OOD_X[:,1], c='navy', label=\"OoD\", alpha=0.05)\n",
    "plt.scatter(OOD_BATCH[:,0], OOD_BATCH[:,1], c='navy', label=\"OoD\", alpha=0.05)\n",
    "xi = np.linspace(0, 8, 50, endpoint=True)\n",
    "yi = np.linspace(0, 8, 50, endpoint=True)\n",
    "xy_pos = np.array(list(product(xi, yi)))\n",
    "zi = torch.softmax(D_WOOD(torch.tensor(xy_pos, dtype=torch.float32)), dim=-1)\n",
    "print(zi.shape)\n",
    "si = ood_wass_loss(zi)\n",
    "plt.pcolormesh(xi, yi, si.reshape((50,50)).T, shading='auto', alpha=0.8)\n",
    "plt.title(\"Plot Title\")\n",
    "plt.xlabel(\"X\")\n",
    "plt.ylabel(\"Y\")\n",
    "plt.legend()\n",
    "plt.show()"
   ]
  },
  {
   "cell_type": "code",
   "execution_count": 26,
   "metadata": {},
   "outputs": [
    {
     "data": {
      "text/plain": [
       "<matplotlib.collections.QuadMesh at 0x7fe43c47aca0>"
      ]
     },
     "execution_count": 26,
     "metadata": {},
     "output_type": "execute_result"
    },
    {
     "data": {
      "image/png": "[encoded data removed]",
      "text/plain": [
       "<Figure size 432x288 with 1 Axes>"
      ]
     },
     "metadata": {
      "needs_background": "light"
     },
     "output_type": "display_data"
    }
   ],
   "source": [
    "# 1000\n",
    "plt.pcolormesh(xi, yi, si.reshape((50,50)).T, shading='auto', alpha=0.8)"
   ]
  },
  {
   "attachments": {},
   "cell_type": "markdown",
   "metadata": {},
   "source": [
    "### OOD GAN Training"
   ]
  },
  {
   "cell_type": "code",
   "execution_count": 51,
   "metadata": {},
   "outputs": [
    {
     "name": "stderr",
     "output_type": "stream",
     "text": [
      "[autoreload of simulation failed: Traceback (most recent call last):\n",
      "  File \"/Library/Frameworks/Python.framework/Versions/3.9/lib/python3.9/site-packages/IPython/extensions/autoreload.py\", line 257, in check\n",
      "    superreload(m, reload, self.old_objects)\n",
      "  File \"/Library/Frameworks/Python.framework/Versions/3.9/lib/python3.9/site-packages/IPython/extensions/autoreload.py\", line 480, in superreload\n",
      "    update_generic(old_obj, new_obj)\n",
      "  File \"/Library/Frameworks/Python.framework/Versions/3.9/lib/python3.9/site-packages/IPython/extensions/autoreload.py\", line 377, in update_generic\n",
      "    update(a, b)\n",
      "  File \"/Library/Frameworks/Python.framework/Versions/3.9/lib/python3.9/site-packages/IPython/extensions/autoreload.py\", line 329, in update_class\n",
      "    if update_generic(old_obj, new_obj):\n",
      "  File \"/Library/Frameworks/Python.framework/Versions/3.9/lib/python3.9/site-packages/IPython/extensions/autoreload.py\", line 377, in update_generic\n",
      "    update(a, b)\n",
      "  File \"/Library/Frameworks/Python.framework/Versions/3.9/lib/python3.9/site-packages/IPython/extensions/autoreload.py\", line 289, in update_function\n",
      "    setattr(old, name, getattr(new, name))\n",
      "ValueError: __init__() requires a code object with 0 free vars, not 1\n",
      "]\n"
     ]
    },
    {
     "name": "stdout",
     "output_type": "stream",
     "text": [
      "OOD Batch Shape: torch.Size([8, 2])\n"
     ]
    },
    {
     "name": "stderr",
     "output_type": "stream",
     "text": [
      "  8%|▊         | 1/12 [00:01<00:14,  1.30s/it]"
     ]
    },
    {
     "name": "stdout",
     "output_type": "stream",
     "text": [
      "Step: 0    | D:  1.4371 | CE:  1.4148 | W_OoD:  2.1685 | W_z:  1.0883 | G:  0.0350 | W_z:  1.0505\n"
     ]
    },
    {
     "name": "stderr",
     "output_type": "stream",
     "text": [
      "100%|██████████| 12/12 [00:14<00:00,  1.24s/it]\n"
     ]
    },
    {
     "name": "stdout",
     "output_type": "stream",
     "text": [
      "Epoch  # 1 | Val accuracy: 0.3341\n"
     ]
    },
    {
     "name": "stderr",
     "output_type": "stream",
     "text": [
      "100%|██████████| 12/12 [00:15<00:00,  1.29s/it]\n",
      "100%|██████████| 12/12 [00:15<00:00,  1.33s/it]\n",
      "100%|██████████| 12/12 [00:16<00:00,  1.35s/it]\n",
      "100%|██████████| 12/12 [00:14<00:00,  1.23s/it]\n",
      "100%|██████████| 12/12 [00:16<00:00,  1.36s/it]\n",
      "100%|██████████| 12/12 [00:15<00:00,  1.30s/it]\n",
      "100%|██████████| 12/12 [00:14<00:00,  1.25s/it]\n",
      " 42%|████▏     | 5/12 [00:06<00:09,  1.31s/it]"
     ]
    },
    {
     "name": "stdout",
     "output_type": "stream",
     "text": [
      "Step: 4    | D:  0.7989 | CE:  0.7985 | W_OoD:  0.9446 | W_z:  0.9346 | G:  0.0393 | W_z:  0.9343\n"
     ]
    },
    {
     "name": "stderr",
     "output_type": "stream",
     "text": [
      "100%|██████████| 12/12 [00:15<00:00,  1.28s/it]\n",
      "100%|██████████| 12/12 [00:14<00:00,  1.22s/it]\n",
      "100%|██████████| 12/12 [00:15<00:00,  1.27s/it]\n"
     ]
    },
    {
     "name": "stdout",
     "output_type": "stream",
     "text": [
      "Epoch  # 11 | Val accuracy: 0.3341\n"
     ]
    },
    {
     "name": "stderr",
     "output_type": "stream",
     "text": [
      "100%|██████████| 12/12 [00:14<00:00,  1.25s/it]\n",
      "100%|██████████| 12/12 [00:14<00:00,  1.20s/it]\n",
      "100%|██████████| 12/12 [00:14<00:00,  1.20s/it]\n",
      "100%|██████████| 12/12 [00:14<00:00,  1.22s/it]\n",
      "100%|██████████| 12/12 [00:14<00:00,  1.22s/it]\n",
      " 75%|███████▌  | 9/12 [00:10<00:03,  1.20s/it]"
     ]
    },
    {
     "name": "stdout",
     "output_type": "stream",
     "text": [
      "Step: 8    | D:  0.7681 | CE:  0.7678 | W_OoD:  0.9460 | W_z:  0.9378 | G:  0.0391 | W_z:  0.9402\n"
     ]
    },
    {
     "name": "stderr",
     "output_type": "stream",
     "text": [
      "100%|██████████| 12/12 [00:14<00:00,  1.21s/it]\n",
      "100%|██████████| 12/12 [00:14<00:00,  1.20s/it]\n",
      "100%|██████████| 12/12 [00:14<00:00,  1.21s/it]\n",
      "100%|██████████| 12/12 [00:14<00:00,  1.20s/it]\n",
      "100%|██████████| 12/12 [00:14<00:00,  1.21s/it]\n"
     ]
    },
    {
     "name": "stdout",
     "output_type": "stream",
     "text": [
      "Epoch  # 21 | Val accuracy: 0.8401\n"
     ]
    },
    {
     "name": "stderr",
     "output_type": "stream",
     "text": [
      "100%|██████████| 12/12 [00:14<00:00,  1.20s/it]\n",
      "100%|██████████| 12/12 [00:14<00:00,  1.23s/it]\n",
      "100%|██████████| 12/12 [00:15<00:00,  1.30s/it]\n",
      "100%|██████████| 12/12 [00:14<00:00,  1.20s/it]\n",
      "  8%|▊         | 1/12 [00:01<00:13,  1.22s/it]"
     ]
    },
    {
     "name": "stdout",
     "output_type": "stream",
     "text": [
      "Step: 0    | D:  0.6606 | CE:  0.6600 | W_OoD:  0.9496 | W_z:  0.9351 | G:  0.0393 | W_z:  0.9348\n"
     ]
    },
    {
     "name": "stderr",
     "output_type": "stream",
     "text": [
      "100%|██████████| 12/12 [00:14<00:00,  1.22s/it]\n",
      "100%|██████████| 12/12 [00:14<00:00,  1.21s/it]\n",
      "100%|██████████| 12/12 [00:14<00:00,  1.21s/it]\n",
      "100%|██████████| 12/12 [00:14<00:00,  1.22s/it]\n",
      "100%|██████████| 12/12 [00:14<00:00,  1.22s/it]\n",
      "100%|██████████| 12/12 [00:14<00:00,  1.21s/it]\n"
     ]
    },
    {
     "name": "stdout",
     "output_type": "stream",
     "text": [
      "Epoch  # 31 | Val accuracy: 0.9727\n"
     ]
    },
    {
     "name": "stderr",
     "output_type": "stream",
     "text": [
      "100%|██████████| 12/12 [00:14<00:00,  1.21s/it]\n",
      "100%|██████████| 12/12 [00:14<00:00,  1.21s/it]\n",
      " 42%|████▏     | 5/12 [00:05<00:08,  1.19s/it]"
     ]
    },
    {
     "name": "stdout",
     "output_type": "stream",
     "text": [
      "Step: 4    | D:  0.7139 | CE:  0.7134 | W_OoD:  0.9477 | W_z:  0.9352 | G:  0.0393 | W_z:  0.9341\n"
     ]
    },
    {
     "name": "stderr",
     "output_type": "stream",
     "text": [
      "100%|██████████| 12/12 [00:14<00:00,  1.21s/it]\n",
      "100%|██████████| 12/12 [00:14<00:00,  1.21s/it]\n",
      "100%|██████████| 12/12 [00:14<00:00,  1.22s/it]\n",
      "100%|██████████| 12/12 [00:14<00:00,  1.20s/it]\n",
      "100%|██████████| 12/12 [00:14<00:00,  1.20s/it]\n",
      "100%|██████████| 12/12 [00:14<00:00,  1.20s/it]\n",
      "100%|██████████| 12/12 [00:14<00:00,  1.21s/it]\n",
      "100%|██████████| 12/12 [00:14<00:00,  1.20s/it]\n"
     ]
    },
    {
     "name": "stdout",
     "output_type": "stream",
     "text": [
      "Epoch  # 41 | Val accuracy: 0.9886\n"
     ]
    },
    {
     "name": "stderr",
     "output_type": "stream",
     "text": [
      " 75%|███████▌  | 9/12 [00:10<00:03,  1.20s/it]"
     ]
    },
    {
     "name": "stdout",
     "output_type": "stream",
     "text": [
      "Step: 8    | D:  0.6800 | CE:  0.6795 | W_OoD:  0.9515 | W_z:  0.9369 | G:  0.0392 | W_z:  0.9368\n"
     ]
    },
    {
     "name": "stderr",
     "output_type": "stream",
     "text": [
      "100%|██████████| 12/12 [00:14<00:00,  1.21s/it]\n",
      "100%|██████████| 12/12 [00:14<00:00,  1.20s/it]\n",
      "100%|██████████| 12/12 [00:14<00:00,  1.20s/it]\n",
      "100%|██████████| 12/12 [00:14<00:00,  1.20s/it]\n",
      "100%|██████████| 12/12 [00:14<00:00,  1.22s/it]\n",
      "100%|██████████| 12/12 [00:14<00:00,  1.21s/it]\n",
      "100%|██████████| 12/12 [00:14<00:00,  1.20s/it]\n",
      "100%|██████████| 12/12 [00:14<00:00,  1.20s/it]\n",
      "100%|██████████| 12/12 [00:14<00:00,  1.20s/it]\n",
      "  8%|▊         | 1/12 [00:01<00:13,  1.20s/it]"
     ]
    },
    {
     "name": "stdout",
     "output_type": "stream",
     "text": [
      "Step: 0    | D:  0.5625 | CE:  0.5621 | W_OoD:  0.9453 | W_z:  0.9361 | G:  0.0393 | W_z:  0.9352\n"
     ]
    },
    {
     "name": "stderr",
     "output_type": "stream",
     "text": [
      "100%|██████████| 12/12 [00:15<00:00,  1.28s/it]\n"
     ]
    },
    {
     "name": "stdout",
     "output_type": "stream",
     "text": [
      "Epoch  # 51 | Val accuracy: 0.9801\n"
     ]
    },
    {
     "name": "stderr",
     "output_type": "stream",
     "text": [
      "100%|██████████| 12/12 [00:15<00:00,  1.29s/it]\n",
      "100%|██████████| 12/12 [00:15<00:00,  1.28s/it]\n",
      "100%|██████████| 12/12 [00:15<00:00,  1.27s/it]\n",
      "100%|██████████| 12/12 [00:14<00:00,  1.25s/it]\n",
      "100%|██████████| 12/12 [00:15<00:00,  1.27s/it]\n",
      "100%|██████████| 12/12 [00:14<00:00,  1.23s/it]\n",
      "100%|██████████| 12/12 [00:14<00:00,  1.20s/it]\n",
      " 42%|████▏     | 5/12 [00:06<00:08,  1.21s/it]"
     ]
    },
    {
     "name": "stdout",
     "output_type": "stream",
     "text": [
      "Step: 4    | D:  0.4721 | CE:  0.4716 | W_OoD:  0.9495 | W_z:  0.9344 | G:  0.0393 | W_z:  0.9349\n"
     ]
    },
    {
     "name": "stderr",
     "output_type": "stream",
     "text": [
      "100%|██████████| 12/12 [00:14<00:00,  1.20s/it]\n",
      "100%|██████████| 12/12 [00:14<00:00,  1.20s/it]\n",
      "100%|██████████| 12/12 [00:14<00:00,  1.19s/it]\n"
     ]
    },
    {
     "name": "stdout",
     "output_type": "stream",
     "text": [
      "Epoch  # 61 | Val accuracy: 0.9967\n"
     ]
    },
    {
     "name": "stderr",
     "output_type": "stream",
     "text": [
      "100%|██████████| 12/12 [00:14<00:00,  1.19s/it]\n",
      "100%|██████████| 12/12 [00:14<00:00,  1.20s/it]\n",
      "100%|██████████| 12/12 [00:14<00:00,  1.22s/it]\n"
     ]
    }
   ],
   "source": [
    "from simulation import *\n",
    "D_GAN = DSIM()\n",
    "G_GAN = GSIM()\n",
    "# OOD data preparation\n",
    "n_ood = 64\n",
    "ood_bsz = 64\n",
    "bsz_tri = 64\n",
    "# OOD_BATCH = torch.tensor(OOD_X[np.random.choice(n, n_ood, replace=False)], dtype=torch.float32)\n",
    "print(f\"OOD Batch Shape: {OOD_BATCH.shape}\")\n",
    "# Configuration\n",
    "max_epoch = 64\n",
    "lr = 1e-3\n",
    "w_ce, w_wass = 1, 0.1\n",
    "n_dim = 1\n",
    "D_solver = torch.optim.Adam(D_GAN.parameters(), lr=lr, betas=(0.9, 0.999))\n",
    "G_solver = torch.optim.Adam(G_GAN.parameters(), lr=lr, betas=(0.9, 0.999))\n",
    "criterion = nn.CrossEntropyLoss()\n",
    "# Dataset\n",
    "ind_tri_loader = torch.utils.data.DataLoader(IND_DATA, shuffle=True, batch_size=256)\n",
    "ind_val_loader = torch.utils.data.DataLoader(IND_DATA_TEST, shuffle=True, batch_size=256)\n",
    "# Training\n",
    "oodgan_training(D_GAN, G_GAN, D_solver, G_solver, OOD_BATCH, ood_bsz, bsz_tri, w_ce, w_wass, \\\n",
    "                    ind_tri_loader, ind_val_loader, max_epoch, n_epoch=10)"
   ]
  },
  {
   "cell_type": "code",
   "execution_count": 52,
   "metadata": {},
   "outputs": [
    {
     "name": "stdout",
     "output_type": "stream",
     "text": [
      "torch.Size([2500, 3])\n"
     ]
    },
    {
     "data": {
      "image/png": "[encoded data removed]",
      "text/plain": [
       "<Figure size 432x288 with 1 Axes>"
      ]
     },
     "metadata": {
      "needs_background": "light"
     },
     "output_type": "display_data"
    }
   ],
   "source": [
    "# 8\n",
    "from wasserstein import *\n",
    "plt.scatter(IND_X[:,0], IND_X[:,1], c='orange', label =\"InD\", alpha=0.05)\n",
    "# plt.scatter(OOD_X[:,0], OOD_X[:,1], c='navy', label=\"OoD\", alpha=0.05)\n",
    "plt.scatter(OOD_BATCH[:,0], OOD_BATCH[:,1], c='navy', label=\"OoD\", alpha=0.05)\n",
    "xi = np.linspace(0, 8, 50, endpoint=True)\n",
    "yi = np.linspace(0, 8, 50, endpoint=True)\n",
    "xy_pos = np.array(list(product(xi, yi)))\n",
    "zi = torch.softmax(D_GAN(torch.tensor(xy_pos, dtype=torch.float32)), dim=-1)\n",
    "print(zi.shape)\n",
    "si = ood_wass_loss(zi)\n",
    "plt.pcolormesh(xi, yi, si.reshape((50,50)).T, shading='auto', alpha=0.8)\n",
    "plt.title(\"Plot Title\")\n",
    "plt.xlabel(\"X\")\n",
    "plt.ylabel(\"Y\")\n",
    "plt.legend()\n",
    "plt.show()"
   ]
  },
  {
   "cell_type": "code",
   "execution_count": 47,
   "metadata": {},
   "outputs": [
    {
     "name": "stdout",
     "output_type": "stream",
     "text": [
      "torch.Size([2500, 3])\n"
     ]
    },
    {
     "data": {
      "image/png": "[encoded data removed]",
      "text/plain": [
       "<Figure size 432x288 with 1 Axes>"
      ]
     },
     "metadata": {
      "needs_background": "light"
     },
     "output_type": "display_data"
    }
   ],
   "source": [
    "# 64\n",
    "from wasserstein import *\n",
    "plt.scatter(IND_X[:,0], IND_X[:,1], c='orange', label =\"InD\", alpha=0.05)\n",
    "# plt.scatter(OOD_X[:,0], OOD_X[:,1], c='navy', label=\"OoD\", alpha=0.05)\n",
    "plt.scatter(OOD_BATCH[:,0], OOD_BATCH[:,1], c='navy', label=\"OoD\", alpha=0.05)\n",
    "xi = np.linspace(0, 8, 50, endpoint=True)\n",
    "yi = np.linspace(0, 8, 50, endpoint=True)\n",
    "xy_pos = np.array(list(product(xi, yi)))\n",
    "zi = torch.softmax(D_GAN(torch.tensor(xy_pos, dtype=torch.float32)), dim=-1)\n",
    "print(zi.shape)\n",
    "si = ood_wass_loss(zi)\n",
    "plt.pcolormesh(xi, yi, si.reshape((50,50)).T, shading='auto', alpha=0.8)\n",
    "plt.title(\"Plot Title\")\n",
    "plt.xlabel(\"X\")\n",
    "plt.ylabel(\"Y\")\n",
    "plt.legend()\n",
    "plt.show()"
   ]
  }
 ],
 "metadata": {
  "kernelspec": {
   "display_name": "Python 3",
   "language": "python",
   "name": "python3"
  },
  "language_info": {
   "codemirror_mode": {
    "name": "ipython",
    "version": 3
   },
   "file_extension": ".py",
   "mimetype": "text/x-python",
   "name": "python",
   "nbconvert_exporter": "python",
   "pygments_lexer": "ipython3",
   "version": "3.9.7"
  },
  "orig_nbformat": 4
 },
 "nbformat": 4,
 "nbformat_minor": 2
}

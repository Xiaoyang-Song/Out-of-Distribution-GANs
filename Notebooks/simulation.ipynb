{
 "cells": [
  {
   "cell_type": "code",
   "execution_count": 1,
   "metadata": {},
   "outputs": [],
   "source": [
    "%load_ext autoreload\n",
    "%autoreload 2"
   ]
  },
  {
   "cell_type": "code",
   "execution_count": 41,
   "metadata": {},
   "outputs": [],
   "source": [
    "import sys\n",
    "sys.path.append(\"../\")\n",
    "import numpy as np\n",
    "from itertools import product\n",
    "from matplotlib import pyplot as plt\n",
    "import seaborn as sns\n",
    "from simulation import *"
   ]
  },
  {
   "cell_type": "code",
   "execution_count": 185,
   "metadata": {},
   "outputs": [],
   "source": [
    "MU = {\n",
    "    1: [1,1],\n",
    "    2: [4,3],\n",
    "    3: [2,6],\n",
    "    4: [7,4]\n",
    "}\n",
    "\n",
    "COV = {\n",
    "    1: np.eye(2)*0.05,\n",
    "    2: np.eye(2)*0.05,\n",
    "    3: np.eye(2)*0.05,\n",
    "    4: np.eye(2)*0.05\n",
    "}\n",
    "\n",
    "N_SAMPLERS = 4\n",
    "SAMPLERS = {}\n",
    "for idx in range(1, N_SAMPLERS+1, 1):\n",
    "    SAMPLERS[idx] = N(MU[idx], COV[idx])"
   ]
  },
  {
   "cell_type": "code",
   "execution_count": 186,
   "metadata": {},
   "outputs": [],
   "source": [
    "n = 1000\n",
    "X_TRAIN, Y_TRAIN = {}, {}\n",
    "X_TEST, Y_TEST = {}, {}\n",
    "\n",
    "for cls in SAMPLERS:\n",
    "    X_TRAIN[cls] = SAMPLERS[cls].sample(n)\n",
    "    Y_TRAIN[cls] = np.array([cls]*n)\n",
    "    X_TEST[cls] = SAMPLERS[cls].sample(n)\n",
    "    Y_TEST[cls] = np.array([cls]*n)\n",
    "\n",
    "# Dataset\n",
    "def cls_to_dset(idxs, X, Y):\n",
    "    x, y = [], []\n",
    "    for idx in idxs:\n",
    "        x.extend(X[idx])\n",
    "        y.extend(Y[idx])\n",
    "    x = np.array(x)\n",
    "    y = np.array(y)\n",
    "    return list(zip(x, y)), x, y\n",
    "\n",
    "IND_CLS = [1, 2, 3]\n",
    "OOD_CLS = [4]\n",
    "IND_DATA, IND_X, IND_Y = cls_to_dset(IND_CLS, X_TRAIN, Y_TRAIN)\n",
    "OOD_DATA, OOD_X, OOD_Y = cls_to_dset(OOD_CLS, X_TRAIN, Y_TRAIN)\n",
    "IND_DATA_TEST, IND_X_TEST, IND_Y_TEST = cls_to_dset(IND_CLS, X_TEST, Y_TEST)\n",
    "OOD_DATA_TEST, OOD_X_TEST, OOD_Y_TEST = cls_to_dset(OOD_CLS, X_TEST, Y_TEST)\n"
   ]
  },
  {
   "cell_type": "code",
   "execution_count": 187,
   "metadata": {},
   "outputs": [
    {
     "data": {
      "image/png": "[encoded data removed]",
      "text/plain": [
       "<Figure size 432x288 with 1 Axes>"
      ]
     },
     "metadata": {
      "needs_background": "light"
     },
     "output_type": "display_data"
    }
   ],
   "source": [
    "plt.scatter(IND_X[:,0], IND_X[:,1], c='orange', label =\"InD\", alpha=0.10)\n",
    "plt.scatter(OOD_X[:,0], OOD_X[:,1], c='navy', label=\"OoD\", alpha=0.10)\n",
    "xi = np.linspace(0, 8, 100, endpoint=True)\n",
    "yi = np.linspace(0, 8, 100, endpoint=True)\n",
    "# xy_pos = list(product(x_pos, y_pos))\n",
    "x, y = np.concatenate((IND_X[:,0],OOD_X[:,0])), np.concatenate((IND_X[:,1],OOD_X[:,1]))\n",
    "nbins=300\n",
    "xi, yi = np.mgrid[x.min():x.max():nbins*1j, y.min():y.max():nbins*1j]\n",
    "plt.pcolormesh(xi, yi, xi, shading='auto', alpha=0.50)\n",
    "plt.title(\"Plot Title\")\n",
    "plt.xlabel(\"X\")\n",
    "plt.ylabel(\"Y\")\n",
    "plt.legend()\n",
    "plt.show()"
   ]
  },
  {
   "attachments": {},
   "cell_type": "markdown",
   "metadata": {},
   "source": [
    "### Naive Classifier Training"
   ]
  },
  {
   "cell_type": "code",
   "execution_count": 197,
   "metadata": {},
   "outputs": [
    {
     "name": "stderr",
     "output_type": "stream",
     "text": [
      "  6%|▋         | 4/64 [00:00<00:03, 18.41it/s]"
     ]
    },
    {
     "name": "stdout",
     "output_type": "stream",
     "text": [
      "Epoch  # 1 | Tri loss: 0.9931                     | Tri accuracy: 0.6467\n",
      "Epoch  # 1 | Val loss: 0.8198                     | Val accuracy: 0.8268\n"
     ]
    },
    {
     "name": "stderr",
     "output_type": "stream",
     "text": [
      " 20%|██        | 13/64 [00:00<00:02, 18.88it/s]"
     ]
    },
    {
     "name": "stdout",
     "output_type": "stream",
     "text": [
      "Epoch  # 11 | Tri loss: 0.0181                     | Tri accuracy: 1.0\n",
      "Epoch  # 11 | Val loss: 0.0152                     | Val accuracy: 1.0\n"
     ]
    },
    {
     "name": "stderr",
     "output_type": "stream",
     "text": [
      " 34%|███▍      | 22/64 [00:01<00:02, 17.91it/s]"
     ]
    },
    {
     "name": "stdout",
     "output_type": "stream",
     "text": [
      "Epoch  # 21 | Tri loss: 0.0026                     | Tri accuracy: 1.0\n",
      "Epoch  # 21 | Val loss: 0.0025                     | Val accuracy: 1.0\n"
     ]
    },
    {
     "name": "stderr",
     "output_type": "stream",
     "text": [
      " 50%|█████     | 32/64 [00:02<00:02, 13.40it/s]"
     ]
    },
    {
     "name": "stdout",
     "output_type": "stream",
     "text": [
      "Epoch  # 31 | Tri loss: 0.0011                     | Tri accuracy: 1.0\n",
      "Epoch  # 31 | Val loss: 0.0011                     | Val accuracy: 1.0\n"
     ]
    },
    {
     "name": "stderr",
     "output_type": "stream",
     "text": [
      " 66%|██████▌   | 42/64 [00:02<00:01, 18.15it/s]"
     ]
    },
    {
     "name": "stdout",
     "output_type": "stream",
     "text": [
      "Epoch  # 41 | Tri loss: 0.0006                     | Tri accuracy: 1.0\n",
      "Epoch  # 41 | Val loss: 0.0006                     | Val accuracy: 1.0\n"
     ]
    },
    {
     "name": "stderr",
     "output_type": "stream",
     "text": [
      " 86%|████████▌ | 55/64 [00:03<00:00, 18.48it/s]"
     ]
    },
    {
     "name": "stdout",
     "output_type": "stream",
     "text": [
      "Epoch  # 51 | Tri loss: 0.0004                     | Tri accuracy: 1.0\n",
      "Epoch  # 51 | Val loss: 0.0004                     | Val accuracy: 1.0\n"
     ]
    },
    {
     "name": "stderr",
     "output_type": "stream",
     "text": [
      "100%|██████████| 64/64 [00:03<00:00, 17.03it/s]"
     ]
    },
    {
     "name": "stdout",
     "output_type": "stream",
     "text": [
      "Epoch  # 61 | Tri loss: 0.0003                     | Tri accuracy: 1.0\n",
      "Epoch  # 61 | Val loss: 0.0003                     | Val accuracy: 1.0\n"
     ]
    },
    {
     "name": "stderr",
     "output_type": "stream",
     "text": [
      "\n"
     ]
    }
   ],
   "source": [
    "from tqdm import tqdm\n",
    "from simulation import classifier_training\n",
    "D = DSIM()\n",
    "# Configguration\n",
    "max_epoch = 64\n",
    "lr = 1e-3\n",
    "optimizer = torch.optim.Adam(D.parameters(), lr=lr, betas=(0.9, 0.999))\n",
    "criterion = nn.CrossEntropyLoss()\n",
    "# Dataset\n",
    "ind_tri_loader = torch.utils.data.DataLoader(IND_DATA, shuffle=True, batch_size=256)\n",
    "ind_val_loader = torch.utils.data.DataLoader(IND_DATA_TEST, shuffle=True, batch_size=256)\n",
    "# Training\n",
    "D = classifier_training(D, criterion, optimizer, ind_tri_loader, ind_val_loader, max_epoch)"
   ]
  },
  {
   "cell_type": "code",
   "execution_count": 116,
   "metadata": {},
   "outputs": [],
   "source": [
    "from wasserstein import *"
   ]
  },
  {
   "cell_type": "code",
   "execution_count": 198,
   "metadata": {},
   "outputs": [
    {
     "name": "stdout",
     "output_type": "stream",
     "text": [
      "torch.Size([2500, 3])\n"
     ]
    },
    {
     "data": {
      "image/png": "[encoded data removed]",
      "text/plain": [
       "<Figure size 432x288 with 1 Axes>"
      ]
     },
     "metadata": {
      "needs_background": "light"
     },
     "output_type": "display_data"
    }
   ],
   "source": [
    "plt.scatter(IND_X[:,0], IND_X[:,1], c='orange', label =\"InD\", alpha=0.05)\n",
    "plt.scatter(OOD_X[:,0], OOD_X[:,1], c='navy', label=\"OoD\", alpha=0.05)\n",
    "xi = np.linspace(0, 8, 50, endpoint=True)\n",
    "yi = np.linspace(0, 8, 50, endpoint=True)\n",
    "xy_pos = np.array(list(product(xi, yi)))\n",
    "x, y = np.concatenate((IND_X[:,0],OOD_X[:,0])), np.concatenate((IND_X[:,1],OOD_X[:,1]))\n",
    "nbins=50\n",
    "# xi, yi = np.mgrid[x.min():x.max():nbins*1j, y.min():y.max():nbins*1j]\n",
    "zi = torch.softmax(D(torch.tensor(xy_pos, dtype=torch.float32)), dim=-1)\n",
    "\n",
    "# zi = torch.softmax(D(torch.tensor(np.vstack([xi.flatten(), yi.flatten()]).T, dtype=torch.float32)), dim=-1)\n",
    "print(zi.shape)\n",
    "si = ood_wass_loss(zi)\n",
    "plt.pcolormesh(xi, yi, si.reshape((50,50)), shading='auto', alpha=1)\n",
    "plt.title(\"Plot Title\")\n",
    "plt.xlabel(\"X\")\n",
    "plt.ylabel(\"Y\")\n",
    "plt.legend()\n",
    "plt.show()"
   ]
  },
  {
   "attachments": {},
   "cell_type": "markdown",
   "metadata": {},
   "source": [
    "### WOOD Training"
   ]
  },
  {
   "cell_type": "code",
   "execution_count": null,
   "metadata": {},
   "outputs": [],
   "source": []
  }
 ],
 "metadata": {
  "kernelspec": {
   "display_name": "Python 3",
   "language": "python",
   "name": "python3"
  },
  "language_info": {
   "codemirror_mode": {
    "name": "ipython",
    "version": 3
   },
   "file_extension": ".py",
   "mimetype": "text/x-python",
   "name": "python",
   "nbconvert_exporter": "python",
   "pygments_lexer": "ipython3",
   "version": "3.9.7"
  },
  "orig_nbformat": 4
 },
 "nbformat": 4,
 "nbformat_minor": 2
}

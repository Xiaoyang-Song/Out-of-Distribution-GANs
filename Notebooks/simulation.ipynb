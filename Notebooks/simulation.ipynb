{
 "cells": [
  {
   "cell_type": "code",
   "execution_count": 11,
   "metadata": {},
   "outputs": [
    {
     "name": "stdout",
     "output_type": "stream",
     "text": [
      "The autoreload extension is already loaded. To reload it, use:\n",
      "  %reload_ext autoreload\n"
     ]
    }
   ],
   "source": [
    "%load_ext autoreload\n",
    "%autoreload 2"
   ]
  },
  {
   "cell_type": "code",
   "execution_count": 2,
   "metadata": {},
   "outputs": [
    {
     "name": "stdout",
     "output_type": "stream",
     "text": [
      "[KeOps] Warning : Cuda libraries were not detected on the system ; using cpu only mode\n"
     ]
    }
   ],
   "source": [
    "import sys\n",
    "sys.path.append(\"../\")\n",
    "import numpy as np\n",
    "from itertools import product\n",
    "from matplotlib import pyplot as plt\n",
    "import seaborn as sns\n",
    "from simulation import *"
   ]
  },
  {
   "attachments": {},
   "cell_type": "markdown",
   "metadata": {},
   "source": [
    "### Bivariate Normal Data Generation"
   ]
  },
  {
   "cell_type": "code",
   "execution_count": 3,
   "metadata": {},
   "outputs": [],
   "source": [
    "MU = {\n",
    "    1: [1,1],\n",
    "    2: [4,3],\n",
    "    3: [2,6],\n",
    "    4: [7,4]\n",
    "}\n",
    "\n",
    "COV = {\n",
    "    1: np.eye(2)*0.05,\n",
    "    2: np.eye(2)*0.05,\n",
    "    3: np.eye(2)*0.05,\n",
    "    4: np.eye(2)*0.05\n",
    "}\n",
    "\n",
    "N_SAMPLERS = 4\n",
    "SAMPLERS = {}\n",
    "for idx in range(1, N_SAMPLERS+1, 1):\n",
    "    SAMPLERS[idx] = N(MU[idx], COV[idx])"
   ]
  },
  {
   "cell_type": "code",
   "execution_count": 4,
   "metadata": {},
   "outputs": [],
   "source": [
    "n = 1000\n",
    "X_TRAIN, Y_TRAIN = {}, {}\n",
    "X_TEST, Y_TEST = {}, {}\n",
    "\n",
    "for cls in SAMPLERS:\n",
    "    X_TRAIN[cls] = SAMPLERS[cls].sample(n)\n",
    "    Y_TRAIN[cls] = np.array([cls]*n)\n",
    "    X_TEST[cls] = SAMPLERS[cls].sample(n)\n",
    "    Y_TEST[cls] = np.array([cls]*n)\n",
    "\n",
    "# Dataset\n",
    "def cls_to_dset(idxs, X, Y):\n",
    "    x, y = [], []\n",
    "    for idx in idxs:\n",
    "        x.extend(X[idx])\n",
    "        y.extend(Y[idx])\n",
    "    x = np.array(x)\n",
    "    y = np.array(y)\n",
    "    return list(zip(x, y)), x, y\n",
    "\n",
    "IND_CLS = [1, 2, 3]\n",
    "OOD_CLS = [4]\n",
    "IND_DATA, IND_X, IND_Y = cls_to_dset(IND_CLS, X_TRAIN, Y_TRAIN)\n",
    "OOD_DATA, OOD_X, OOD_Y = cls_to_dset(OOD_CLS, X_TRAIN, Y_TRAIN)\n",
    "IND_DATA_TEST, IND_X_TEST, IND_Y_TEST = cls_to_dset(IND_CLS, X_TEST, Y_TEST)\n",
    "OOD_DATA_TEST, OOD_X_TEST, OOD_Y_TEST = cls_to_dset(OOD_CLS, X_TEST, Y_TEST)\n"
   ]
  },
  {
   "cell_type": "code",
   "execution_count": 5,
   "metadata": {},
   "outputs": [
    {
     "data": {
      "image/png": "[encoded data removed]",
      "text/plain": [
       "<Figure size 432x288 with 1 Axes>"
      ]
     },
     "metadata": {
      "needs_background": "light"
     },
     "output_type": "display_data"
    }
   ],
   "source": [
    "plt.scatter(IND_X[:,0], IND_X[:,1], c='orange', label =\"InD\", alpha=0.10)\n",
    "plt.scatter(OOD_X[:,0], OOD_X[:,1], c='navy', label=\"OoD\", alpha=0.10)\n",
    "xi = np.linspace(0, 8, 100, endpoint=True)\n",
    "yi = np.linspace(0, 8, 100, endpoint=True)\n",
    "# xy_pos = list(product(x_pos, y_pos))\n",
    "x, y = np.concatenate((IND_X[:,0],OOD_X[:,0])), np.concatenate((IND_X[:,1],OOD_X[:,1]))\n",
    "nbins=300\n",
    "xi, yi = np.mgrid[x.min():x.max():nbins*1j, y.min():y.max():nbins*1j]\n",
    "plt.pcolormesh(xi, yi, xi, shading='auto', alpha=0.50)\n",
    "plt.title(\"Plot Title\")\n",
    "plt.xlabel(\"X\")\n",
    "plt.ylabel(\"Y\")\n",
    "plt.legend()\n",
    "plt.show()"
   ]
  },
  {
   "attachments": {},
   "cell_type": "markdown",
   "metadata": {},
   "source": [
    "### Naive Classifier Training"
   ]
  },
  {
   "cell_type": "code",
   "execution_count": 17,
   "metadata": {},
   "outputs": [
    {
     "name": "stderr",
     "output_type": "stream",
     "text": [
      "  5%|▍         | 3/64 [00:00<00:05, 11.14it/s]"
     ]
    },
    {
     "name": "stdout",
     "output_type": "stream",
     "text": [
      "Epoch  # 1 | Tri loss: 0.9567                     | Tri accuracy: 0.5866\n",
      "Epoch  # 1 | Val loss: 0.8274                     | Val accuracy: 0.6684\n"
     ]
    },
    {
     "name": "stderr",
     "output_type": "stream",
     "text": [
      " 20%|██        | 13/64 [00:00<00:03, 16.88it/s]"
     ]
    },
    {
     "name": "stdout",
     "output_type": "stream",
     "text": [
      "Epoch  # 11 | Tri loss: 0.0096                     | Tri accuracy: 1.0\n",
      "Epoch  # 11 | Val loss: 0.0076                     | Val accuracy: 1.0\n"
     ]
    },
    {
     "name": "stderr",
     "output_type": "stream",
     "text": [
      " 39%|███▉      | 25/64 [00:01<00:01, 21.57it/s]"
     ]
    },
    {
     "name": "stdout",
     "output_type": "stream",
     "text": [
      "Epoch  # 21 | Tri loss: 0.0009                     | Tri accuracy: 1.0\n",
      "Epoch  # 21 | Val loss: 0.0008                     | Val accuracy: 1.0\n"
     ]
    },
    {
     "name": "stderr",
     "output_type": "stream",
     "text": [
      " 53%|█████▎    | 34/64 [00:01<00:01, 22.78it/s]"
     ]
    },
    {
     "name": "stdout",
     "output_type": "stream",
     "text": [
      "Epoch  # 31 | Tri loss: 0.0003                     | Tri accuracy: 1.0\n",
      "Epoch  # 31 | Val loss: 0.0003                     | Val accuracy: 1.0\n"
     ]
    },
    {
     "name": "stderr",
     "output_type": "stream",
     "text": [
      " 67%|██████▋   | 43/64 [00:02<00:00, 21.76it/s]"
     ]
    },
    {
     "name": "stdout",
     "output_type": "stream",
     "text": [
      "Epoch  # 41 | Tri loss: 0.0002                     | Tri accuracy: 1.0\n",
      "Epoch  # 41 | Val loss: 0.0002                     | Val accuracy: 1.0\n"
     ]
    },
    {
     "name": "stderr",
     "output_type": "stream",
     "text": [
      " 81%|████████▏ | 52/64 [00:02<00:00, 18.75it/s]"
     ]
    },
    {
     "name": "stdout",
     "output_type": "stream",
     "text": [
      "Epoch  # 51 | Tri loss: 0.0001                     | Tri accuracy: 1.0\n",
      "Epoch  # 51 | Val loss: 0.0001                     | Val accuracy: 1.0\n"
     ]
    },
    {
     "name": "stderr",
     "output_type": "stream",
     "text": [
      "100%|██████████| 64/64 [00:03<00:00, 19.00it/s]"
     ]
    },
    {
     "name": "stdout",
     "output_type": "stream",
     "text": [
      "Epoch  # 61 | Tri loss: 0.0001                     | Tri accuracy: 1.0\n",
      "Epoch  # 61 | Val loss: 0.0001                     | Val accuracy: 1.0\n"
     ]
    },
    {
     "name": "stderr",
     "output_type": "stream",
     "text": [
      "\n"
     ]
    }
   ],
   "source": [
    "from tqdm import tqdm\n",
    "from simulation import classifier_training\n",
    "D = DSIM()\n",
    "# Configguration\n",
    "max_epoch = 64\n",
    "lr = 1e-3\n",
    "optimizer = torch.optim.Adam(D.parameters(), lr=lr, betas=(0.9, 0.999))\n",
    "criterion = nn.CrossEntropyLoss()\n",
    "# Dataset\n",
    "ind_tri_loader = torch.utils.data.DataLoader(IND_DATA, shuffle=True, batch_size=256)\n",
    "ind_val_loader = torch.utils.data.DataLoader(IND_DATA_TEST, shuffle=True, batch_size=256)\n",
    "# Training\n",
    "D = classifier_training(D, criterion, optimizer, ind_tri_loader, ind_val_loader, max_epoch)"
   ]
  },
  {
   "attachments": {},
   "cell_type": "markdown",
   "metadata": {},
   "source": [
    "#### Plot"
   ]
  },
  {
   "cell_type": "code",
   "execution_count": 18,
   "metadata": {},
   "outputs": [
    {
     "name": "stdout",
     "output_type": "stream",
     "text": [
      "torch.Size([2500, 3])\n"
     ]
    },
    {
     "data": {
      "image/png": "[encoded data removed]",
      "text/plain": [
       "<Figure size 432x288 with 1 Axes>"
      ]
     },
     "metadata": {
      "needs_background": "light"
     },
     "output_type": "display_data"
    }
   ],
   "source": [
    "from wasserstein import *\n",
    "plt.scatter(IND_X[:,0], IND_X[:,1], c='orange', label =\"InD\", alpha=0.05)\n",
    "plt.scatter(OOD_X[:,0], OOD_X[:,1], c='navy', label=\"OoD\", alpha=0.05)\n",
    "xi = np.linspace(0, 8, 50, endpoint=True)\n",
    "yi = np.linspace(0, 8, 50, endpoint=True)\n",
    "xy_pos = np.array(list(product(xi, yi)))\n",
    "x, y = np.concatenate((IND_X[:,0],OOD_X[:,0])), np.concatenate((IND_X[:,1],OOD_X[:,1]))\n",
    "nbins=50\n",
    "# xi, yi = np.mgrid[x.min():x.max():nbins*1j, y.min():y.max():nbins*1j]\n",
    "zi = torch.softmax(D(torch.tensor(xy_pos, dtype=torch.float32)), dim=-1)\n",
    "\n",
    "# zi = torch.softmax(D(torch.tensor(np.vstack([xi.flatten(), yi.flatten()]).T, dtype=torch.float32)), dim=-1)\n",
    "print(zi.shape)\n",
    "si = ood_wass_loss(zi)\n",
    "plt.pcolormesh(xi, yi, si.reshape((50,50)), shading='auto', alpha=1)\n",
    "plt.title(\"Plot Title\")\n",
    "plt.xlabel(\"X\")\n",
    "plt.ylabel(\"Y\")\n",
    "plt.legend()\n",
    "plt.show()"
   ]
  },
  {
   "attachments": {},
   "cell_type": "markdown",
   "metadata": {},
   "source": [
    "### WOOD Training"
   ]
  },
  {
   "cell_type": "code",
   "execution_count": 38,
   "metadata": {},
   "outputs": [
    {
     "name": "stdout",
     "output_type": "stream",
     "text": [
      "OOD Batch Shape: torch.Size([64, 2])\n"
     ]
    },
    {
     "name": "stderr",
     "output_type": "stream",
     "text": [
      "  2%|▏         | 1/64 [00:07<07:39,  7.29s/it]"
     ]
    },
    {
     "name": "stdout",
     "output_type": "stream",
     "text": [
      "Epoch  # 1 | Tri loss: 0.9654                     | Tri accuracy: 0.6093\n",
      "Epoch  # 1 | Val loss: 0.9461                     | Val accuracy: 0.6405\n"
     ]
    },
    {
     "name": "stderr",
     "output_type": "stream",
     "text": [
      "  5%|▍         | 3/64 [00:21<07:22,  7.26s/it]"
     ]
    },
    {
     "name": "stdout",
     "output_type": "stream",
     "text": [
      "Epoch  # 3 | Tri loss: 0.7939                     | Tri accuracy: 0.6463\n",
      "Epoch  # 3 | Val loss: 0.7953                     | Val accuracy: 0.7636\n"
     ]
    },
    {
     "name": "stderr",
     "output_type": "stream",
     "text": [
      "  8%|▊         | 5/64 [00:35<07:02,  7.16s/it]"
     ]
    },
    {
     "name": "stdout",
     "output_type": "stream",
     "text": [
      "Epoch  # 5 | Tri loss: 0.7004                     | Tri accuracy: 0.7278\n",
      "Epoch  # 5 | Val loss: 0.7099                     | Val accuracy: 0.9144\n"
     ]
    },
    {
     "name": "stderr",
     "output_type": "stream",
     "text": [
      " 11%|█         | 7/64 [00:50<06:47,  7.14s/it]"
     ]
    },
    {
     "name": "stdout",
     "output_type": "stream",
     "text": [
      "Epoch  # 7 | Tri loss: 0.6282                     | Tri accuracy: 0.6652\n",
      "Epoch  # 7 | Val loss: 0.6458                     | Val accuracy: 0.6677\n"
     ]
    },
    {
     "name": "stderr",
     "output_type": "stream",
     "text": [
      " 14%|█▍        | 9/64 [01:04<06:29,  7.08s/it]"
     ]
    },
    {
     "name": "stdout",
     "output_type": "stream",
     "text": [
      "Epoch  # 9 | Tri loss: 0.5736                     | Tri accuracy: 0.6848\n",
      "Epoch  # 9 | Val loss: 0.589                     | Val accuracy: 0.667\n"
     ]
    },
    {
     "name": "stderr",
     "output_type": "stream",
     "text": [
      " 17%|█▋        | 11/64 [01:18<06:16,  7.10s/it]"
     ]
    },
    {
     "name": "stdout",
     "output_type": "stream",
     "text": [
      "Epoch  # 11 | Tri loss: 0.4982                     | Tri accuracy: 0.6663\n",
      "Epoch  # 11 | Val loss: 0.51                     | Val accuracy: 0.6694\n"
     ]
    },
    {
     "name": "stderr",
     "output_type": "stream",
     "text": [
      " 20%|██        | 13/64 [01:32<06:00,  7.07s/it]"
     ]
    },
    {
     "name": "stdout",
     "output_type": "stream",
     "text": [
      "Epoch  # 13 | Tri loss: 0.4432                     | Tri accuracy: 0.6934\n",
      "Epoch  # 13 | Val loss: 0.4608                     | Val accuracy: 0.8789\n"
     ]
    },
    {
     "name": "stderr",
     "output_type": "stream",
     "text": [
      " 23%|██▎       | 15/64 [01:46<05:45,  7.06s/it]"
     ]
    },
    {
     "name": "stdout",
     "output_type": "stream",
     "text": [
      "Epoch  # 15 | Tri loss: 0.3923                     | Tri accuracy: 0.9071\n",
      "Epoch  # 15 | Val loss: 0.4202                     | Val accuracy: 0.966\n"
     ]
    },
    {
     "name": "stderr",
     "output_type": "stream",
     "text": [
      " 27%|██▋       | 17/64 [02:00<05:28,  6.98s/it]"
     ]
    },
    {
     "name": "stdout",
     "output_type": "stream",
     "text": [
      "Epoch  # 17 | Tri loss: 0.3613                     | Tri accuracy: 0.953\n",
      "Epoch  # 17 | Val loss: 0.3892                     | Val accuracy: 0.9845\n"
     ]
    },
    {
     "name": "stderr",
     "output_type": "stream",
     "text": [
      " 30%|██▉       | 19/64 [02:14<05:13,  6.98s/it]"
     ]
    },
    {
     "name": "stdout",
     "output_type": "stream",
     "text": [
      "Epoch  # 19 | Tri loss: 0.3444                     | Tri accuracy: 0.9809\n",
      "Epoch  # 19 | Val loss: 0.3838                     | Val accuracy: 0.982\n"
     ]
    },
    {
     "name": "stderr",
     "output_type": "stream",
     "text": [
      " 33%|███▎      | 21/64 [02:28<05:00,  6.99s/it]"
     ]
    },
    {
     "name": "stdout",
     "output_type": "stream",
     "text": [
      "Epoch  # 21 | Tri loss: 0.3369                     | Tri accuracy: 0.975\n",
      "Epoch  # 21 | Val loss: 0.3705                     | Val accuracy: 0.9889\n"
     ]
    },
    {
     "name": "stderr",
     "output_type": "stream",
     "text": [
      " 36%|███▌      | 23/64 [02:42<04:44,  6.93s/it]"
     ]
    },
    {
     "name": "stdout",
     "output_type": "stream",
     "text": [
      "Epoch  # 23 | Tri loss: 0.3297                     | Tri accuracy: 0.9854\n",
      "Epoch  # 23 | Val loss: 0.3638                     | Val accuracy: 0.9902\n"
     ]
    },
    {
     "name": "stderr",
     "output_type": "stream",
     "text": [
      " 39%|███▉      | 25/64 [02:56<04:29,  6.92s/it]"
     ]
    },
    {
     "name": "stdout",
     "output_type": "stream",
     "text": [
      "Epoch  # 25 | Tri loss: 0.3236                     | Tri accuracy: 0.9859\n",
      "Epoch  # 25 | Val loss: 0.3566                     | Val accuracy: 0.9928\n"
     ]
    },
    {
     "name": "stderr",
     "output_type": "stream",
     "text": [
      " 42%|████▏     | 27/64 [03:09<04:15,  6.91s/it]"
     ]
    },
    {
     "name": "stdout",
     "output_type": "stream",
     "text": [
      "Epoch  # 27 | Tri loss: 0.3156                     | Tri accuracy: 0.9824\n",
      "Epoch  # 27 | Val loss: 0.3572                     | Val accuracy: 0.9889\n"
     ]
    },
    {
     "name": "stderr",
     "output_type": "stream",
     "text": [
      " 45%|████▌     | 29/64 [03:23<04:00,  6.88s/it]"
     ]
    },
    {
     "name": "stdout",
     "output_type": "stream",
     "text": [
      "Epoch  # 29 | Tri loss: 0.3093                     | Tri accuracy: 0.9945\n",
      "Epoch  # 29 | Val loss: 0.3479                     | Val accuracy: 0.9954\n"
     ]
    },
    {
     "name": "stderr",
     "output_type": "stream",
     "text": [
      " 48%|████▊     | 31/64 [03:37<03:46,  6.86s/it]"
     ]
    },
    {
     "name": "stdout",
     "output_type": "stream",
     "text": [
      "Epoch  # 31 | Tri loss: 0.2995                     | Tri accuracy: 0.9857\n",
      "Epoch  # 31 | Val loss: 0.3378                     | Val accuracy: 0.9727\n"
     ]
    },
    {
     "name": "stderr",
     "output_type": "stream",
     "text": [
      " 52%|█████▏    | 33/64 [03:51<03:32,  6.85s/it]"
     ]
    },
    {
     "name": "stdout",
     "output_type": "stream",
     "text": [
      "Epoch  # 33 | Tri loss: 0.2932                     | Tri accuracy: 0.9987\n",
      "Epoch  # 33 | Val loss: 0.3331                     | Val accuracy: 0.9997\n"
     ]
    },
    {
     "name": "stderr",
     "output_type": "stream",
     "text": [
      " 55%|█████▍    | 35/64 [04:05<03:22,  6.98s/it]"
     ]
    },
    {
     "name": "stdout",
     "output_type": "stream",
     "text": [
      "Epoch  # 35 | Tri loss: 0.2873                     | Tri accuracy: 0.9993\n",
      "Epoch  # 35 | Val loss: 0.3205                     | Val accuracy: 0.9997\n"
     ]
    },
    {
     "name": "stderr",
     "output_type": "stream",
     "text": [
      " 58%|█████▊    | 37/64 [04:18<03:05,  6.88s/it]"
     ]
    },
    {
     "name": "stdout",
     "output_type": "stream",
     "text": [
      "Epoch  # 37 | Tri loss: 0.279                     | Tri accuracy: 0.9993\n",
      "Epoch  # 37 | Val loss: 0.3205                     | Val accuracy: 0.9997\n"
     ]
    },
    {
     "name": "stderr",
     "output_type": "stream",
     "text": [
      " 61%|██████    | 39/64 [04:32<02:51,  6.85s/it]"
     ]
    },
    {
     "name": "stdout",
     "output_type": "stream",
     "text": [
      "Epoch  # 39 | Tri loss: 0.269                     | Tri accuracy: 0.9997\n",
      "Epoch  # 39 | Val loss: 0.302                     | Val accuracy: 0.9997\n"
     ]
    },
    {
     "name": "stderr",
     "output_type": "stream",
     "text": [
      " 64%|██████▍   | 41/64 [04:46<02:37,  6.84s/it]"
     ]
    },
    {
     "name": "stdout",
     "output_type": "stream",
     "text": [
      "Epoch  # 41 | Tri loss: 0.2563                     | Tri accuracy: 0.9997\n",
      "Epoch  # 41 | Val loss: 0.2904                     | Val accuracy: 0.9997\n"
     ]
    },
    {
     "name": "stderr",
     "output_type": "stream",
     "text": [
      " 67%|██████▋   | 43/64 [04:59<02:22,  6.80s/it]"
     ]
    },
    {
     "name": "stdout",
     "output_type": "stream",
     "text": [
      "Epoch  # 43 | Tri loss: 0.2476                     | Tri accuracy: 1.0\n",
      "Epoch  # 43 | Val loss: 0.2787                     | Val accuracy: 0.9997\n"
     ]
    },
    {
     "name": "stderr",
     "output_type": "stream",
     "text": [
      " 70%|███████   | 45/64 [05:13<02:08,  6.76s/it]"
     ]
    },
    {
     "name": "stdout",
     "output_type": "stream",
     "text": [
      "Epoch  # 45 | Tri loss: 0.2406                     | Tri accuracy: 1.0\n",
      "Epoch  # 45 | Val loss: 0.273                     | Val accuracy: 0.9997\n"
     ]
    },
    {
     "name": "stderr",
     "output_type": "stream",
     "text": [
      " 73%|███████▎  | 47/64 [05:26<01:54,  6.76s/it]"
     ]
    },
    {
     "name": "stdout",
     "output_type": "stream",
     "text": [
      "Epoch  # 47 | Tri loss: 0.2211                     | Tri accuracy: 1.0\n",
      "Epoch  # 47 | Val loss: 0.2598                     | Val accuracy: 1.0\n"
     ]
    },
    {
     "name": "stderr",
     "output_type": "stream",
     "text": [
      " 77%|███████▋  | 49/64 [05:40<01:41,  6.79s/it]"
     ]
    },
    {
     "name": "stdout",
     "output_type": "stream",
     "text": [
      "Epoch  # 49 | Tri loss: 0.2096                     | Tri accuracy: 1.0\n",
      "Epoch  # 49 | Val loss: 0.2449                     | Val accuracy: 1.0\n"
     ]
    },
    {
     "name": "stderr",
     "output_type": "stream",
     "text": [
      " 80%|███████▉  | 51/64 [05:53<01:28,  6.81s/it]"
     ]
    },
    {
     "name": "stdout",
     "output_type": "stream",
     "text": [
      "Epoch  # 51 | Tri loss: 0.1951                     | Tri accuracy: 1.0\n",
      "Epoch  # 51 | Val loss: 0.228                     | Val accuracy: 1.0\n"
     ]
    },
    {
     "name": "stderr",
     "output_type": "stream",
     "text": [
      " 83%|████████▎ | 53/64 [06:07<01:15,  6.83s/it]"
     ]
    },
    {
     "name": "stdout",
     "output_type": "stream",
     "text": [
      "Epoch  # 53 | Tri loss: 0.1777                     | Tri accuracy: 1.0\n",
      "Epoch  # 53 | Val loss: 0.2101                     | Val accuracy: 1.0\n"
     ]
    },
    {
     "name": "stderr",
     "output_type": "stream",
     "text": [
      " 86%|████████▌ | 55/64 [06:21<01:01,  6.85s/it]"
     ]
    },
    {
     "name": "stdout",
     "output_type": "stream",
     "text": [
      "Epoch  # 55 | Tri loss: 0.1641                     | Tri accuracy: 1.0\n",
      "Epoch  # 55 | Val loss: 0.1994                     | Val accuracy: 1.0\n"
     ]
    },
    {
     "name": "stderr",
     "output_type": "stream",
     "text": [
      " 89%|████████▉ | 57/64 [06:35<00:48,  6.88s/it]"
     ]
    },
    {
     "name": "stdout",
     "output_type": "stream",
     "text": [
      "Epoch  # 57 | Tri loss: 0.1506                     | Tri accuracy: 1.0\n",
      "Epoch  # 57 | Val loss: 0.1864                     | Val accuracy: 1.0\n"
     ]
    },
    {
     "name": "stderr",
     "output_type": "stream",
     "text": [
      " 92%|█████████▏| 59/64 [06:48<00:34,  6.88s/it]"
     ]
    },
    {
     "name": "stdout",
     "output_type": "stream",
     "text": [
      "Epoch  # 59 | Tri loss: 0.1323                     | Tri accuracy: 1.0\n",
      "Epoch  # 59 | Val loss: 0.1727                     | Val accuracy: 1.0\n"
     ]
    },
    {
     "name": "stderr",
     "output_type": "stream",
     "text": [
      " 95%|█████████▌| 61/64 [07:02<00:20,  6.90s/it]"
     ]
    },
    {
     "name": "stdout",
     "output_type": "stream",
     "text": [
      "Epoch  # 61 | Tri loss: 0.1181                     | Tri accuracy: 1.0\n",
      "Epoch  # 61 | Val loss: 0.1485                     | Val accuracy: 1.0\n"
     ]
    },
    {
     "name": "stderr",
     "output_type": "stream",
     "text": [
      " 98%|█████████▊| 63/64 [07:16<00:06,  6.91s/it]"
     ]
    },
    {
     "name": "stdout",
     "output_type": "stream",
     "text": [
      "Epoch  # 63 | Tri loss: 0.1047                     | Tri accuracy: 1.0\n",
      "Epoch  # 63 | Val loss: 0.1471                     | Val accuracy: 1.0\n"
     ]
    },
    {
     "name": "stderr",
     "output_type": "stream",
     "text": [
      "100%|██████████| 64/64 [07:23<00:00,  6.93s/it]\n"
     ]
    }
   ],
   "source": [
    "from simulation import *\n",
    "D_WOOD = DSIM()\n",
    "# OOD data preparation\n",
    "n_ood = 64\n",
    "ood_bsz = 64\n",
    "OOD_BATCH = torch.tensor(OOD_X[np.random.choice(n, n_ood, replace=False)], dtype=torch.float32)\n",
    "print(f\"OOD Batch Shape: {OOD_BATCH.shape}\")\n",
    "# Configuration\n",
    "max_epoch = 64\n",
    "lr = 1e-3\n",
    "beta = 0.1\n",
    "optimizer = torch.optim.Adam(D_WOOD.parameters(), lr=lr, betas=(0.9, 0.999))\n",
    "criterion = nn.CrossEntropyLoss()\n",
    "# Dataset\n",
    "ind_tri_loader = torch.utils.data.DataLoader(IND_DATA, shuffle=True, batch_size=256)\n",
    "ind_val_loader = torch.utils.data.DataLoader(IND_DATA_TEST, shuffle=True, batch_size=256)\n",
    "# Training\n",
    "D_WOOD = wood_training(D_WOOD, OOD_BATCH, ood_bsz, beta, criterion, optimizer, ind_tri_loader, ind_val_loader, max_epoch, n_epoch=2)"
   ]
  },
  {
   "cell_type": "code",
   "execution_count": 39,
   "metadata": {},
   "outputs": [
    {
     "name": "stdout",
     "output_type": "stream",
     "text": [
      "torch.Size([2500, 3])\n"
     ]
    },
    {
     "data": {
      "image/png": "[encoded data removed]",
      "text/plain": [
       "<Figure size 432x288 with 1 Axes>"
      ]
     },
     "metadata": {
      "needs_background": "light"
     },
     "output_type": "display_data"
    }
   ],
   "source": [
    "from wasserstein import *\n",
    "plt.scatter(IND_X[:,0], IND_X[:,1], c='orange', label =\"InD\", alpha=0.05)\n",
    "# plt.scatter(OOD_X[:,0], OOD_X[:,1], c='navy', label=\"OoD\", alpha=0.05)\n",
    "plt.scatter(OOD_BATCH[:,0], OOD_BATCH[:,1], c='navy', label=\"OoD\", alpha=0.05)\n",
    "xi = np.linspace(0, 8, 50, endpoint=True)\n",
    "yi = np.linspace(0, 8, 50, endpoint=True)\n",
    "xy_pos = np.array(list(product(xi, yi)))\n",
    "zi = torch.softmax(D_WOOD(torch.tensor(xy_pos, dtype=torch.float32)), dim=-1)\n",
    "print(zi.shape)\n",
    "si = ood_wass_loss(zi)\n",
    "plt.pcolormesh(xi, yi, si.reshape((50,50)).T, shading='auto', alpha=0.8)\n",
    "plt.title(\"Plot Title\")\n",
    "plt.xlabel(\"X\")\n",
    "plt.ylabel(\"Y\")\n",
    "plt.legend()\n",
    "plt.show()"
   ]
  },
  {
   "cell_type": "code",
   "execution_count": 30,
   "metadata": {},
   "outputs": [
    {
     "data": {
      "text/plain": [
       "array([[[0.        , 0.        ],\n",
       "        [0.        , 0.16326531],\n",
       "        [0.        , 0.32653061],\n",
       "        ...,\n",
       "        [0.        , 7.67346939],\n",
       "        [0.        , 7.83673469],\n",
       "        [0.        , 8.        ]],\n",
       "\n",
       "       [[0.16326531, 0.        ],\n",
       "        [0.16326531, 0.16326531],\n",
       "        [0.16326531, 0.32653061],\n",
       "        ...,\n",
       "        [0.16326531, 7.67346939],\n",
       "        [0.16326531, 7.83673469],\n",
       "        [0.16326531, 8.        ]],\n",
       "\n",
       "       [[0.32653061, 0.        ],\n",
       "        [0.32653061, 0.16326531],\n",
       "        [0.32653061, 0.32653061],\n",
       "        ...,\n",
       "        [0.32653061, 7.67346939],\n",
       "        [0.32653061, 7.83673469],\n",
       "        [0.32653061, 8.        ]],\n",
       "\n",
       "       ...,\n",
       "\n",
       "       [[7.67346939, 0.        ],\n",
       "        [7.67346939, 0.16326531],\n",
       "        [7.67346939, 0.32653061],\n",
       "        ...,\n",
       "        [7.67346939, 7.67346939],\n",
       "        [7.67346939, 7.83673469],\n",
       "        [7.67346939, 8.        ]],\n",
       "\n",
       "       [[7.83673469, 0.        ],\n",
       "        [7.83673469, 0.16326531],\n",
       "        [7.83673469, 0.32653061],\n",
       "        ...,\n",
       "        [7.83673469, 7.67346939],\n",
       "        [7.83673469, 7.83673469],\n",
       "        [7.83673469, 8.        ]],\n",
       "\n",
       "       [[8.        , 0.        ],\n",
       "        [8.        , 0.16326531],\n",
       "        [8.        , 0.32653061],\n",
       "        ...,\n",
       "        [8.        , 7.67346939],\n",
       "        [8.        , 7.83673469],\n",
       "        [8.        , 8.        ]]])"
      ]
     },
     "execution_count": 30,
     "metadata": {},
     "output_type": "execute_result"
    }
   ],
   "source": [
    "xy_pos.reshape((50, 50, 2))"
   ]
  },
  {
   "cell_type": "code",
   "execution_count": 26,
   "metadata": {},
   "outputs": [
    {
     "data": {
      "text/plain": [
       "<matplotlib.collections.QuadMesh at 0x7fe43c47aca0>"
      ]
     },
     "execution_count": 26,
     "metadata": {},
     "output_type": "execute_result"
    },
    {
     "data": {
      "image/png": "[encoded data removed]",
      "text/plain": [
       "<Figure size 432x288 with 1 Axes>"
      ]
     },
     "metadata": {
      "needs_background": "light"
     },
     "output_type": "display_data"
    }
   ],
   "source": [
    "plt.pcolormesh(xi, yi, si.reshape((50,50)).T, shading='auto', alpha=0.8)"
   ]
  },
  {
   "attachments": {},
   "cell_type": "markdown",
   "metadata": {},
   "source": [
    "### OOD GAN Training"
   ]
  },
  {
   "cell_type": "code",
   "execution_count": null,
   "metadata": {},
   "outputs": [],
   "source": [
    "from simulation import *\n",
    "D_GAN = DSIM()\n",
    "G_GAN = GSIM()\n",
    "# OOD data preparation\n",
    "n_ood = 64\n",
    "ood_bsz = 64\n",
    "OOD_BATCH = torch.tensor(OOD_X[np.random.choice(n, n_ood, replace=False)], dtype=torch.float32)\n",
    "print(f\"OOD Batch Shape: {OOD_BATCH.shape}\")\n",
    "# Configuration\n",
    "max_epoch = 64\n",
    "lr = 1e-3\n",
    "beta = 0.1\n",
    "n_dim = 1\n",
    "optimizer = torch.optim.Adam(D_WOOD.parameters(), lr=lr, betas=(0.9, 0.999))\n",
    "criterion = nn.CrossEntropyLoss()\n",
    "# Dataset\n",
    "ind_tri_loader = torch.utils.data.DataLoader(IND_DATA, shuffle=True, batch_size=256)\n",
    "ind_val_loader = torch.utils.data.DataLoader(IND_DATA_TEST, shuffle=True, batch_size=256)\n",
    "# Training\n",
    "D_GAN, G_GAN = oodgan_training(D_WOOD, OOD_BATCH, ood_bsz, beta, criterion, optimizer, ind_tri_loader, ind_val_loader, max_epoch)"
   ]
  }
 ],
 "metadata": {
  "kernelspec": {
   "display_name": "Python 3",
   "language": "python",
   "name": "python3"
  },
  "language_info": {
   "codemirror_mode": {
    "name": "ipython",
    "version": 3
   },
   "file_extension": ".py",
   "mimetype": "text/x-python",
   "name": "python",
   "nbconvert_exporter": "python",
   "pygments_lexer": "ipython3",
   "version": "3.9.7"
  },
  "orig_nbformat": 4
 },
 "nbformat": 4,
 "nbformat_minor": 2
}

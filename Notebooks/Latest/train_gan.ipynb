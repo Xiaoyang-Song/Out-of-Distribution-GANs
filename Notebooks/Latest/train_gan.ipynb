{
 "cells": [
  {
   "cell_type": "code",
   "execution_count": 2,
   "metadata": {},
   "outputs": [],
   "source": [
    "%load_ext autoreload\n",
    "%autoreload 2"
   ]
  },
  {
   "cell_type": "code",
   "execution_count": 3,
   "metadata": {},
   "outputs": [
    {
     "name": "stdout",
     "output_type": "stream",
     "text": [
      "Are we using Colab now? False\n"
     ]
    }
   ],
   "source": [
    "try:\n",
    "  import google.colab\n",
    "  IN_COLAB = True\n",
    "except:\n",
    "  IN_COLAB = False\n",
    "print(f\"Are we using Colab now? {IN_COLAB}\")"
   ]
  },
  {
   "cell_type": "code",
   "execution_count": 4,
   "metadata": {},
   "outputs": [],
   "source": [
    "import pandas as pd\n",
    "import numpy as np\n",
    "import matplotlib.pyplot as plt\n",
    "from PIL import Image\n",
    "import torch\n",
    "import torch.utils.data\n",
    "import torchvision\n",
    "from torch.utils.tensorboard import SummaryWriter\n",
    "from tqdm.notebook import tqdm\n",
    "from icecream import ic\n",
    "from collections import Counter"
   ]
  },
  {
   "cell_type": "code",
   "execution_count": 14,
   "metadata": {},
   "outputs": [],
   "source": [
    "import sys\n",
    "import time, os\n",
    "if IN_COLAB:\n",
    "    from google.colab import drive\n",
    "    drive.mount('/content/drive')\n",
    "    GOOGLE_DRIVE_PATH_AFTER_MYDRIVE = \"Out-of-Distribution-GANs\"\n",
    "    GOOGLE_DRIVE_PATH = os.path.join('drive', 'My Drive', GOOGLE_DRIVE_PATH_AFTER_MYDRIVE)\n",
    "    print(os.listdir(GOOGLE_DRIVE_PATH))\n",
    "    sys.path.append(GOOGLE_DRIVE_PATH)\n",
    "    %pip install icecream tensorboard\n",
    "    %pip install umap-learn pandas matplotlib datashader bokeh holoviews colorcet scikit-image\n",
    "else:\n",
    "#     ic(sys.prefix)\n",
    "#     ic(sys.path)\n",
    "#     pass\n",
    "    # ic(sys.path)\n",
    "    sys.path.insert(0, '../../')\n",
    "os.environ[\"TZ\"] = \"US/Eastern\"\n",
    "time.tzset()"
   ]
  },
  {
   "cell_type": "code",
   "execution_count": 21,
   "metadata": {},
   "outputs": [],
   "source": [
    "from config import *\n",
    "from dataset import MNIST,CIFAR10, MNIST_SUB, SVHN\n",
    "# from models.mnist_cnn import MNISTCNN\n",
    "from models.hparam import HParam\n",
    "from models.gans import *\n",
    "from models.dc_gan_model import *\n",
    "from utils import *\n",
    "from models.ood_gan_backbone import *\n",
    "from ood_gan import *"
   ]
  },
  {
   "cell_type": "markdown",
   "metadata": {},
   "source": [
    "### Load datasets"
   ]
  },
  {
   "cell_type": "code",
   "execution_count": 13,
   "metadata": {},
   "outputs": [
    {
     "name": "stdout",
     "output_type": "stream",
     "text": [
      "Files already downloaded and verified\n",
      "Files already downloaded and verified\n",
      "Using downloaded and verified file: ./Datasets/SVHN/train_32x32.mat\n",
      "Using downloaded and verified file: ./Datasets/SVHN/test_32x32.mat\n"
     ]
    },
    {
     "name": "stderr",
     "output_type": "stream",
     "text": [
      "ic| ood_img_batch.shape: torch.Size([64, 3, 32, 32])\n"
     ]
    },
    {
     "data": {
      "text/plain": [
       "torch.Size([64, 3, 32, 32])"
      ]
     },
     "execution_count": 13,
     "metadata": {},
     "output_type": "execute_result"
    }
   ],
   "source": [
    "bsz_tri, bsz_val = 256, 128\n",
    "cifartri_set, cifarval_set, cifar_tri_loader, cifar_val_loader = CIFAR10(bsz_tri, bsz_val)\n",
    "\n",
    "ood_bsz_tri = 64\n",
    "ood_bsz_val = 128\n",
    "svhn_tri_set, svhn_val_set, svhn_triloader, svhn_valloader = SVHN(ood_bsz_tri, ood_bsz_val)\n",
    "ood_img_batch, ood_img_label = next(iter(svhn_triloader))\n",
    "ic(ood_img_batch.shape)\n"
   ]
  },
  {
   "cell_type": "markdown",
   "metadata": {},
   "source": [
    "### Initialize trainers"
   ]
  },
  {
   "cell_type": "code",
   "execution_count": 23,
   "metadata": {},
   "outputs": [],
   "source": [
    "if IN_COLAB:\n",
    "    ckpt_dir = GOOGLE_DRIVE_PATH + '/checkpoint/CIFAR-SVHN/'\n",
    "else:\n",
    "    ckpt_dir = 'checkpoint/CIFAR-SVHN/'\n",
    "\n",
    "ckpt_name = f'CIFAR-SVHN[{ood_bsz_tri}]'\n",
    "hp = HParam(ce=1,wass=0.1, dist=0.8)\n",
    "max_epoch = 1\n",
    "writer_name = ckpt_name\n",
    "n_steps_log = 1\n",
    "noise_dim=96\n",
    "# Model setup\n",
    "D = Discriminator()\n",
    "G = Generator(noise_dim)\n",
    "D_solver = torch.optim.Adam(D.parameters(), lr=1e-3, betas=(0.5, 0.999))\n",
    "G_solver = torch.optim.Adam(G.parameters(), lr=1e-3, betas=(0.5, 0.999))\n",
    "# Training dataset\n",
    "ind_loader = cifar_tri_loader\n"
   ]
  },
  {
   "cell_type": "code",
   "execution_count": 22,
   "metadata": {},
   "outputs": [],
   "source": [
    "trainer = OOD_GAN_TRAINER(D=D, G=G, \n",
    "                        noise_dim=noise_dim, \n",
    "                        bsz_tri=bsz_tri, \n",
    "                        gd_steps_ratio=1, \n",
    "                        hp=hp, \n",
    "                        max_epochs=max_epoch, \n",
    "                        writer_name=writer_name, \n",
    "                        ckpt_name=ckpt_name,\n",
    "                        ckpt_dir=ckpt_dir, \n",
    "                        n_steps_log=1)"
   ]
  },
  {
   "cell_type": "code",
   "execution_count": null,
   "metadata": {},
   "outputs": [],
   "source": [
    "trainer.train(ind_loader, ood_img_batch, D_solver, G_solver, pretrainedD=None, checkpoint=None)"
   ]
  }
 ],
 "metadata": {
  "interpreter": {
   "hash": "aee8b7b246df8f9039afb4144a1f6fd8d2ca17a180786b69acc140d282b71a49"
  },
  "kernelspec": {
   "display_name": "Python 3.9.7 64-bit",
   "language": "python",
   "name": "python3"
  },
  "language_info": {
   "codemirror_mode": {
    "name": "ipython",
    "version": 3
   },
   "file_extension": ".py",
   "mimetype": "text/x-python",
   "name": "python",
   "nbconvert_exporter": "python",
   "pygments_lexer": "ipython3",
   "version": "3.9.7"
  },
  "orig_nbformat": 4
 },
 "nbformat": 4,
 "nbformat_minor": 2
}

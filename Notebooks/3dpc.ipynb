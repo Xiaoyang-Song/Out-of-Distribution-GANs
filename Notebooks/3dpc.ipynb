{
 "cells": [
  {
   "cell_type": "code",
   "execution_count": null,
   "id": "dab7a97b",
   "metadata": {},
   "outputs": [],
   "source": [
    "import torch\n",
    "import numpy as np\n",
    "import os\n",
    "import sys\n",
    "sys.path.append('../')\n",
    "from ood_gan import *\n",
    "from models.dc_gan_model import *\n",
    "from dataset import *\n",
    "from config import *\n",
    "from models.model import *\n",
    "from eval import *\n",
    "import argparse\n",
    "import time\n",
    "import yaml"
   ]
  },
  {
   "cell_type": "code",
   "execution_count": 24,
   "id": "77041b8f",
   "metadata": {},
   "outputs": [
    {
     "name": "stdout",
     "output_type": "stream",
     "text": [
      "cuda\n"
     ]
    },
    {
     "data": {
      "text/plain": [
       "<All keys matched successfully>"
      ]
     },
     "execution_count": 24,
     "metadata": {},
     "output_type": "execute_result"
    }
   ],
   "source": [
    "device = torch.device(\"cuda\" if torch.cuda.is_available() else \"cpu\")\n",
    "print(device)\n",
    "G = PCGenerator().to(device)\n",
    "path = \"..\\\\checkpoint\\\\OOD-GAN\\\\3DPC\\\\Imbalanced\\\\50\\\\[3DPC]-[50]-[Imbalanced]-[0]_[3].pt\"\n",
    "ckpt = torch.load(path, map_location=device)\n",
    "G.load_state_dict(torch.load(path, map_location=device)['G-state'])"
   ]
  },
  {
   "cell_type": "code",
   "execution_count": null,
   "id": "3502e0e5",
   "metadata": {},
   "outputs": [
    {
     "name": "stdout",
     "output_type": "stream",
     "text": [
      "(300, 3)\n"
     ]
    }
   ],
   "source": [
    "z = torch.normal(0, 1, (1, 32)).to(device)\n",
    "img = G(z).detach().squeeze().cpu().numpy()\n",
    "print(img.shape)"
   ]
  },
  {
   "cell_type": "code",
   "execution_count": 45,
   "id": "39e8db27",
   "metadata": {},
   "outputs": [],
   "source": [
    "# visualize 3D point cloud\n",
    "import open3d as o3d\n",
    "import matplotlib.pyplot as plt\n",
    "# Visualize the point cloud using Open3D\n",
    "pcd = o3d.geometry.PointCloud()\n",
    "pcd.points = o3d.utility.Vector3dVector(img)\n",
    "# pcd.colors = o3d.utility.Vector3dVector(np.random.rand(img.shape[0], 3))  # Optional: Add random colors to the points\n",
    "\n",
    "o3d.visualization.draw_geometries([pcd])\n"
   ]
  },
  {
   "cell_type": "code",
   "execution_count": 41,
   "id": "19bbfbab",
   "metadata": {},
   "outputs": [
    {
     "name": "stdout",
     "output_type": "stream",
     "text": [
      "torch.Size([1000, 1, 300, 3])\n"
     ]
    }
   ],
   "source": [
    "path = \"../checkpoint/OOD-Sample/3DPC/OOD-Imbalanced-1000.pt\"\n",
    "data = torch.load(path)\n",
    "data = data[0]\n",
    "print(data.shape)\n",
    "\n",
    "eg = data[0].unsqueeze(0).squeeze().cpu().numpy()\n",
    "pcd = o3d.geometry.PointCloud()\n",
    "pcd.points = o3d.utility.Vector3dVector(eg)\n",
    "# pcd.colors = o3d.utility.Vector3dVector(np.random.rand(img.shape[0], 3))  # Optional: Add random colors to the points\n",
    "\n",
    "o3d.visualization.draw_geometries([pcd])\n"
   ]
  },
  {
   "cell_type": "code",
   "execution_count": null,
   "id": "f0c3934f",
   "metadata": {},
   "outputs": [],
   "source": []
  }
 ],
 "metadata": {
  "kernelspec": {
   "display_name": "LLM",
   "language": "python",
   "name": "python3"
  },
  "language_info": {
   "codemirror_mode": {
    "name": "ipython",
    "version": 3
   },
   "file_extension": ".py",
   "mimetype": "text/x-python",
   "name": "python",
   "nbconvert_exporter": "python",
   "pygments_lexer": "ipython3",
   "version": "3.11.4"
  }
 },
 "nbformat": 4,
 "nbformat_minor": 5
}

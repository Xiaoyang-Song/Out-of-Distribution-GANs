{
 "cells": [
  {
   "cell_type": "markdown",
   "metadata": {},
   "source": [
    "#### OOD GANS Walkthrough"
   ]
  },
  {
   "cell_type": "code",
   "execution_count": 1,
   "metadata": {},
   "outputs": [],
   "source": [
    "import sys\n",
    "sys.path.insert(0, '../')"
   ]
  },
  {
   "cell_type": "code",
   "execution_count": 14,
   "metadata": {},
   "outputs": [
    {
     "name": "stdout",
     "output_type": "stream",
     "text": [
      "The autoreload extension is already loaded. To reload it, use:\n",
      "  %reload_ext autoreload\n"
     ]
    }
   ],
   "source": [
    "from config import *\n",
    "from dataset import MNIST, CIFAR10\n",
    "from models.mnist_cnn import MNISTCNN\n",
    "from models.gans import *\n",
    "from models.dc_gan_model import *\n",
    "# from trainer import train # Not needed for OOD GANS\n",
    "\n",
    "# import autoreload code\n",
    "%load_ext autoreload\n",
    "%autoreload 2"
   ]
  },
  {
   "cell_type": "markdown",
   "metadata": {},
   "source": [
    "### Dataset Processing\n"
   ]
  },
  {
   "cell_type": "code",
   "execution_count": 3,
   "metadata": {},
   "outputs": [
    {
     "name": "stdout",
     "output_type": "stream",
     "text": [
      "Files already downloaded and verified\n",
      "Files already downloaded and verified\n"
     ]
    }
   ],
   "source": [
    "mnist_tri_set, mnist_val_set, mnist_tri_loader, mnist_val_loader = MNIST(128, 32, 2, True)\n",
    "cifar_tri_set, cifar_val_set , cifar_tri_loader, cifar_val_loader = CIFAR10(128, 32)\n",
    "# TODO: Show dataset statistics and sample images."
   ]
  },
  {
   "cell_type": "markdown",
   "metadata": {},
   "source": [
    "### Original GANS Implementation"
   ]
  },
  {
   "cell_type": "code",
   "execution_count": null,
   "metadata": {},
   "outputs": [],
   "source": [
    "D = discriminator(gan_type=GAN_TYPE.NAIVE).to(DEVICE)\n",
    "G = generator().to(DEVICE)\n",
    "D_solver = get_optimizer(D)\n",
    "G_solver = get_optimizer(G)\n",
    "gan_trainer(mnist_tri_loader, D, G, D_solver, G_solver,\n",
    "            discriminator_loss, generator_loss, gan_type=GAN_TYPE.NAIVE)"
   ]
  },
  {
   "cell_type": "markdown",
   "metadata": {},
   "source": [
    "### Original Deep Convolutional GAN Implementation"
   ]
  },
  {
   "cell_type": "code",
   "execution_count": null,
   "metadata": {},
   "outputs": [],
   "source": [
    "D = dc_discriminator().to(DEVICE)\n",
    "G = dc_generator().to(DEVICE)\n",
    "D_solver = get_optimizer(D)\n",
    "G_solver = get_optimizer(G)\n",
    "gan_trainer(mnist_tri_loader, D, G, D_solver, G_solver,\n",
    "            discriminator_loss, generator_loss, gan_type=GAN_TYPE.NAIVE)"
   ]
  },
  {
   "cell_type": "markdown",
   "metadata": {},
   "source": [
    "### OOD GAN Sample Training with GDLossTracker\n",
    "\n"
   ]
  },
  {
   "cell_type": "code",
   "execution_count": 15,
   "metadata": {},
   "outputs": [
    {
     "name": "stdout",
     "output_type": "stream",
     "text": [
      "Files already downloaded and verified\n",
      "Files already downloaded and verified\n"
     ]
    },
    {
     "ename": "AttributeError",
     "evalue": "'NoneType' object has no attribute 'detach'",
     "output_type": "error",
     "traceback": [
      "\u001b[0;31m---------------------------------------------------------------------------\u001b[0m",
      "\u001b[0;31mAttributeError\u001b[0m                            Traceback (most recent call last)",
      "\u001b[1;32m/Users/xiaoyangsong/Desktop/OOD Research/Out-of-Distribution-GANs/Notebooks/ood_gan.ipynb Cell 11'\u001b[0m in \u001b[0;36m<module>\u001b[0;34m\u001b[0m\n\u001b[1;32m      <a href='vscode-notebook-cell:/Users/xiaoyangsong/Desktop/OOD%20Research/Out-of-Distribution-GANs/Notebooks/ood_gan.ipynb#ch0000010?line=6'>7</a>\u001b[0m D_solver \u001b[39m=\u001b[39m get_optimizer(D)\n\u001b[1;32m      <a href='vscode-notebook-cell:/Users/xiaoyangsong/Desktop/OOD%20Research/Out-of-Distribution-GANs/Notebooks/ood_gan.ipynb#ch0000010?line=7'>8</a>\u001b[0m G_solver \u001b[39m=\u001b[39m get_optimizer(G)\n\u001b[0;32m----> <a href='vscode-notebook-cell:/Users/xiaoyangsong/Desktop/OOD%20Research/Out-of-Distribution-GANs/Notebooks/ood_gan.ipynb#ch0000010?line=8'>9</a>\u001b[0m gan_trainer(mnist_tri_loader, D, G, D_solver, G_solver,\n\u001b[1;32m     <a href='vscode-notebook-cell:/Users/xiaoyangsong/Desktop/OOD%20Research/Out-of-Distribution-GANs/Notebooks/ood_gan.ipynb#ch0000010?line=9'>10</a>\u001b[0m             discriminator_loss, generator_loss,\n\u001b[1;32m     <a href='vscode-notebook-cell:/Users/xiaoyangsong/Desktop/OOD%20Research/Out-of-Distribution-GANs/Notebooks/ood_gan.ipynb#ch0000010?line=10'>11</a>\u001b[0m             gan_type\u001b[39m=\u001b[39;49mGAN_TYPE\u001b[39m.\u001b[39;49mOOD, ood_img_sample\u001b[39m=\u001b[39;49mCIFAR10,gd_ls_tracker\u001b[39m=\u001b[39;49mGDlsTracker, \n\u001b[1;32m     <a href='vscode-notebook-cell:/Users/xiaoyangsong/Desktop/OOD%20Research/Out-of-Distribution-GANs/Notebooks/ood_gan.ipynb#ch0000010?line=11'>12</a>\u001b[0m             gd_ls_track_iter\u001b[39m=\u001b[39;49m\u001b[39m10\u001b[39;49m)\n",
      "File \u001b[0;32m~/Desktop/OOD Research/Out-of-Distribution-GANs/Notebooks/../models/gans.py:199\u001b[0m, in \u001b[0;36mgan_trainer\u001b[0;34m(loader_train, D, G, D_solver, G_solver, discriminator_loss, generator_loss, save_filename, gan_type, show_every, batch_size, noise_size, num_epochs, ood_img_batch_size, ood_img_sample, gd_ls_tracker, gd_ls_track_iter)\u001b[0m\n\u001b[1;32m    <a href='file:///Users/xiaoyangsong/Desktop/OOD%20Research/Out-of-Distribution-GANs/Notebooks/../models/gans.py?line=192'>193</a>\u001b[0m gen_logits_fake \u001b[39m=\u001b[39m D(fake_images)\n\u001b[1;32m    <a href='file:///Users/xiaoyangsong/Desktop/OOD%20Research/Out-of-Distribution-GANs/Notebooks/../models/gans.py?line=194'>195</a>\u001b[0m \u001b[39mif\u001b[39;00m gan_type \u001b[39m==\u001b[39m GAN_TYPE\u001b[39m.\u001b[39mOOD:\n\u001b[1;32m    <a href='file:///Users/xiaoyangsong/Desktop/OOD%20Research/Out-of-Distribution-GANs/Notebooks/../models/gans.py?line=195'>196</a>\u001b[0m     \u001b[39m# ic(fake_images.shape)\u001b[39;00m\n\u001b[1;32m    <a href='file:///Users/xiaoyangsong/Desktop/OOD%20Research/Out-of-Distribution-GANs/Notebooks/../models/gans.py?line=196'>197</a>\u001b[0m     \u001b[39m# ic(ood_imgs.shape)\u001b[39;00m\n\u001b[1;32m    <a href='file:///Users/xiaoyangsong/Desktop/OOD%20Research/Out-of-Distribution-GANs/Notebooks/../models/gans.py?line=197'>198</a>\u001b[0m     \u001b[39m# ic(real_data.shape)\u001b[39;00m\n\u001b[0;32m--> <a href='file:///Users/xiaoyangsong/Desktop/OOD%20Research/Out-of-Distribution-GANs/Notebooks/../models/gans.py?line=198'>199</a>\u001b[0m     g_error \u001b[39m=\u001b[39m generator_loss(\n\u001b[1;32m    <a href='file:///Users/xiaoyangsong/Desktop/OOD%20Research/Out-of-Distribution-GANs/Notebooks/../models/gans.py?line=199'>200</a>\u001b[0m         gen_logits_fake, fake_images, ood_imgs, real_data, gan_type\u001b[39m=\u001b[39;49mGAN_TYPE\u001b[39m.\u001b[39;49mOOD,\n\u001b[1;32m    <a href='file:///Users/xiaoyangsong/Desktop/OOD%20Research/Out-of-Distribution-GANs/Notebooks/../models/gans.py?line=200'>201</a>\u001b[0m         gd_ls_tracker\u001b[39m=\u001b[39;49mgd_ls_tracker)\n\u001b[1;32m    <a href='file:///Users/xiaoyangsong/Desktop/OOD%20Research/Out-of-Distribution-GANs/Notebooks/../models/gans.py?line=201'>202</a>\u001b[0m \u001b[39melse\u001b[39;00m:\n\u001b[1;32m    <a href='file:///Users/xiaoyangsong/Desktop/OOD%20Research/Out-of-Distribution-GANs/Notebooks/../models/gans.py?line=202'>203</a>\u001b[0m     g_error \u001b[39m=\u001b[39m generator_loss(gen_logits_fake)\n",
      "File \u001b[0;32m~/Desktop/OOD Research/Out-of-Distribution-GANs/Notebooks/../models/gans.py:118\u001b[0m, in \u001b[0;36mgenerator_loss\u001b[0;34m(logits_fake, img_fake, img_ind, img_ood, dist_sample_size, gan_type, gd_ls_tracker)\u001b[0m\n\u001b[1;32m    <a href='file:///Users/xiaoyangsong/Desktop/OOD%20Research/Out-of-Distribution-GANs/Notebooks/../models/gans.py?line=113'>114</a>\u001b[0m     \u001b[39m# ic(-zsl_fake)\u001b[39;00m\n\u001b[1;32m    <a href='file:///Users/xiaoyangsong/Desktop/OOD%20Research/Out-of-Distribution-GANs/Notebooks/../models/gans.py?line=114'>115</a>\u001b[0m     \u001b[39m# ic(-dist_fake_ind)\u001b[39;00m\n\u001b[1;32m    <a href='file:///Users/xiaoyangsong/Desktop/OOD%20Research/Out-of-Distribution-GANs/Notebooks/../models/gans.py?line=115'>116</a>\u001b[0m     \u001b[39m# ic(dist_fake_ood)\u001b[39;00m\n\u001b[1;32m    <a href='file:///Users/xiaoyangsong/Desktop/OOD%20Research/Out-of-Distribution-GANs/Notebooks/../models/gans.py?line=116'>117</a>\u001b[0m     \u001b[39mif\u001b[39;00m gd_ls_tracker \u001b[39mis\u001b[39;00m \u001b[39mnot\u001b[39;00m \u001b[39mNone\u001b[39;00m:\n\u001b[0;32m--> <a href='file:///Users/xiaoyangsong/Desktop/OOD%20Research/Out-of-Distribution-GANs/Notebooks/../models/gans.py?line=117'>118</a>\u001b[0m         gd_ls_tracker\u001b[39m.\u001b[39;49map_g_ls(zsl_fake, dist_fake_ind, dist_fake_ood)\n\u001b[1;32m    <a href='file:///Users/xiaoyangsong/Desktop/OOD%20Research/Out-of-Distribution-GANs/Notebooks/../models/gans.py?line=118'>119</a>\u001b[0m     \u001b[39mreturn\u001b[39;00m \u001b[39m-\u001b[39mzsl_fake \u001b[39m-\u001b[39m dist_fake_ind \u001b[39m+\u001b[39m dist_fake_ood\n\u001b[1;32m    <a href='file:///Users/xiaoyangsong/Desktop/OOD%20Research/Out-of-Distribution-GANs/Notebooks/../models/gans.py?line=119'>120</a>\u001b[0m \u001b[39melse\u001b[39;00m:\n",
      "File \u001b[0;32m~/Desktop/OOD Research/Out-of-Distribution-GANs/Notebooks/../utils.py:50\u001b[0m, in \u001b[0;36mGDLossTracker.ap_g_ls\u001b[0;34m(self, zsl_fake, dist_fake_ind, dist_fake_ood)\u001b[0m\n\u001b[1;32m     <a href='file:///Users/xiaoyangsong/Desktop/OOD%20Research/Out-of-Distribution-GANs/Notebooks/../utils.py?line=47'>48</a>\u001b[0m \u001b[39mdef\u001b[39;00m \u001b[39map_g_ls\u001b[39m(\u001b[39mself\u001b[39m, zsl_fake, dist_fake_ind, dist_fake_ood):\n\u001b[1;32m     <a href='file:///Users/xiaoyangsong/Desktop/OOD%20Research/Out-of-Distribution-GANs/Notebooks/../utils.py?line=48'>49</a>\u001b[0m     \u001b[39mself\u001b[39m\u001b[39m.\u001b[39mg_n_zsl_fake\u001b[39m.\u001b[39mappend(\u001b[39m-\u001b[39mzsl_fake\u001b[39m.\u001b[39mdetach())\n\u001b[0;32m---> <a href='file:///Users/xiaoyangsong/Desktop/OOD%20Research/Out-of-Distribution-GANs/Notebooks/../utils.py?line=49'>50</a>\u001b[0m     \u001b[39mself\u001b[39m\u001b[39m.\u001b[39mg_n_dist_fake_ind \u001b[39m.\u001b[39mappend(\u001b[39m-\u001b[39mdist_fake_ind\u001b[39m.\u001b[39;49mdetach())\n\u001b[1;32m     <a href='file:///Users/xiaoyangsong/Desktop/OOD%20Research/Out-of-Distribution-GANs/Notebooks/../utils.py?line=50'>51</a>\u001b[0m     \u001b[39mself\u001b[39m\u001b[39m.\u001b[39mg_dist_fake_ood\u001b[39m.\u001b[39mappend(dist_fake_ood\u001b[39m.\u001b[39mdetach())\n",
      "\u001b[0;31mAttributeError\u001b[0m: 'NoneType' object has no attribute 'detach'"
     ]
    }
   ],
   "source": [
    "# TODO: Launch this on Google Colab\n",
    "from utils import *\n",
    "D = discriminator(gan_type=GAN_TYPE.OOD).to(DEVICE)\n",
    "G = generator().to(DEVICE)\n",
    "\n",
    "GDlsTracker = GDLossTracker(10)\n",
    "D_solver = get_optimizer(D)\n",
    "G_solver = get_optimizer(G)\n",
    "gan_trainer(mnist_tri_loader, D, G, D_solver, G_solver,\n",
    "            discriminator_loss, generator_loss,\n",
    "            gan_type=GAN_TYPE.OOD, ood_img_sample=CIFAR10,gd_ls_tracker=GDlsTracker, \n",
    "            gd_ls_track_iter=10)"
   ]
  },
  {
   "cell_type": "code",
   "execution_count": 12,
   "metadata": {},
   "outputs": [
    {
     "ename": "RuntimeError",
     "evalue": "Can't call numpy() on Tensor that requires grad. Use tensor.detach().numpy() instead.",
     "output_type": "error",
     "traceback": [
      "\u001b[0;31m---------------------------------------------------------------------------\u001b[0m",
      "\u001b[0;31mRuntimeError\u001b[0m                              Traceback (most recent call last)",
      "\u001b[1;32m/Users/xiaoyangsong/Desktop/OOD Research/Out-of-Distribution-GANs/Notebooks/ood_gan.ipynb Cell 12'\u001b[0m in \u001b[0;36m<module>\u001b[0;34m\u001b[0m\n\u001b[0;32m----> <a href='vscode-notebook-cell:/Users/xiaoyangsong/Desktop/OOD%20Research/Out-of-Distribution-GANs/Notebooks/ood_gan.ipynb#ch0000011?line=0'>1</a>\u001b[0m GDlsTracker\u001b[39m.\u001b[39;49mplt_ls(save_fname\u001b[39m=\u001b[39;49m\u001b[39m'\u001b[39;49m\u001b[39mg_loss\u001b[39;49m\u001b[39m'\u001b[39;49m, num_iter\u001b[39m=\u001b[39;49m\u001b[39m10\u001b[39;49m, \u001b[39mtype\u001b[39;49m\u001b[39m=\u001b[39;49mGD\u001b[39m.\u001b[39;49mG)\n",
      "File \u001b[0;32m~/Desktop/OOD Research/Out-of-Distribution-GANs/Notebooks/../utils.py:67\u001b[0m, in \u001b[0;36mGDLossTracker.plt_ls\u001b[0;34m(self, save_fname, num_iter, type, verbose)\u001b[0m\n\u001b[1;32m     <a href='file:///Users/xiaoyangsong/Desktop/OOD%20Research/Out-of-Distribution-GANs/Notebooks/../utils.py?line=64'>65</a>\u001b[0m \u001b[39massert\u001b[39;00m num_iter \u001b[39m<\u001b[39m\u001b[39m=\u001b[39m \u001b[39mself\u001b[39m\u001b[39m.\u001b[39mmax_len, \u001b[39m'\u001b[39m\u001b[39mExpect num_iter to be less or equal than self.max_len.\u001b[39m\u001b[39m'\u001b[39m\n\u001b[1;32m     <a href='file:///Users/xiaoyangsong/Desktop/OOD%20Research/Out-of-Distribution-GANs/Notebooks/../utils.py?line=65'>66</a>\u001b[0m x_axis \u001b[39m=\u001b[39m np\u001b[39m.\u001b[39marange(num_iter)\n\u001b[0;32m---> <a href='file:///Users/xiaoyangsong/Desktop/OOD%20Research/Out-of-Distribution-GANs/Notebooks/../utils.py?line=66'>67</a>\u001b[0m \u001b[39mself\u001b[39;49m\u001b[39m.\u001b[39;49msum_up_gd_ls()\n\u001b[1;32m     <a href='file:///Users/xiaoyangsong/Desktop/OOD%20Research/Out-of-Distribution-GANs/Notebooks/../utils.py?line=67'>68</a>\u001b[0m \u001b[39mif\u001b[39;00m \u001b[39mtype\u001b[39m \u001b[39m==\u001b[39m GD\u001b[39m.\u001b[39mD:\n\u001b[1;32m     <a href='file:///Users/xiaoyangsong/Desktop/OOD%20Research/Out-of-Distribution-GANs/Notebooks/../utils.py?line=68'>69</a>\u001b[0m     plt\u001b[39m.\u001b[39mplot(x_axis, \u001b[39mself\u001b[39m\u001b[39m.\u001b[39md_zsl_ood, marker\u001b[39m=\u001b[39m\u001b[39m'\u001b[39m\u001b[39mo\u001b[39m\u001b[39m'\u001b[39m, label\u001b[39m=\u001b[39m\u001b[39m'\u001b[39m\u001b[39md_zsl_ood_ls\u001b[39m\u001b[39m'\u001b[39m)\n",
      "File \u001b[0;32m~/Desktop/OOD Research/Out-of-Distribution-GANs/Notebooks/../utils.py:38\u001b[0m, in \u001b[0;36mGDLossTracker.sum_up_gd_ls\u001b[0;34m(self)\u001b[0m\n\u001b[1;32m     <a href='file:///Users/xiaoyangsong/Desktop/OOD%20Research/Out-of-Distribution-GANs/Notebooks/../utils.py?line=35'>36</a>\u001b[0m \u001b[39mdef\u001b[39;00m \u001b[39msum_up_gd_ls\u001b[39m(\u001b[39mself\u001b[39m):\n\u001b[1;32m     <a href='file:///Users/xiaoyangsong/Desktop/OOD%20Research/Out-of-Distribution-GANs/Notebooks/../utils.py?line=36'>37</a>\u001b[0m     \u001b[39mself\u001b[39m\u001b[39m.\u001b[39md_total \u001b[39m=\u001b[39m np\u001b[39m.\u001b[39marray(\u001b[39mself\u001b[39m\u001b[39m.\u001b[39md_zsl_fake) \u001b[39m+\u001b[39m \\\n\u001b[0;32m---> <a href='file:///Users/xiaoyangsong/Desktop/OOD%20Research/Out-of-Distribution-GANs/Notebooks/../utils.py?line=37'>38</a>\u001b[0m         np\u001b[39m.\u001b[39marray(\u001b[39mself\u001b[39m\u001b[39m.\u001b[39md_zsl_ood) \u001b[39m+\u001b[39m np\u001b[39m.\u001b[39;49marray(\u001b[39mself\u001b[39;49m\u001b[39m.\u001b[39;49md_ind_ce)\n\u001b[1;32m     <a href='file:///Users/xiaoyangsong/Desktop/OOD%20Research/Out-of-Distribution-GANs/Notebooks/../utils.py?line=38'>39</a>\u001b[0m     \u001b[39mself\u001b[39m\u001b[39m.\u001b[39mg_total \u001b[39m=\u001b[39m np\u001b[39m.\u001b[39marray(\n\u001b[1;32m     <a href='file:///Users/xiaoyangsong/Desktop/OOD%20Research/Out-of-Distribution-GANs/Notebooks/../utils.py?line=39'>40</a>\u001b[0m         \u001b[39mself\u001b[39m\u001b[39m.\u001b[39mg_dist_fake_ood) \u001b[39m+\u001b[39m np\u001b[39m.\u001b[39marray(\u001b[39mself\u001b[39m\u001b[39m.\u001b[39mg_n_dist_fake_ind) \u001b[39m+\u001b[39m np\u001b[39m.\u001b[39marray(\u001b[39mself\u001b[39m\u001b[39m.\u001b[39mg_n_zsl_fake)\n\u001b[1;32m     <a href='file:///Users/xiaoyangsong/Desktop/OOD%20Research/Out-of-Distribution-GANs/Notebooks/../utils.py?line=40'>41</a>\u001b[0m     ic(\u001b[39m'\u001b[39m\u001b[39mThe total loss of G and D can be accessed now.\u001b[39m\u001b[39m'\u001b[39m)\n",
      "File \u001b[0;32m/Library/Frameworks/Python.framework/Versions/3.9/lib/python3.9/site-packages/torch/_tensor.py:678\u001b[0m, in \u001b[0;36mTensor.__array__\u001b[0;34m(self, dtype)\u001b[0m\n\u001b[1;32m    <a href='file:///Library/Frameworks/Python.framework/Versions/3.9/lib/python3.9/site-packages/torch/_tensor.py?line=675'>676</a>\u001b[0m     \u001b[39mreturn\u001b[39;00m handle_torch_function(Tensor\u001b[39m.\u001b[39m__array__, (\u001b[39mself\u001b[39m,), \u001b[39mself\u001b[39m, dtype\u001b[39m=\u001b[39mdtype)\n\u001b[1;32m    <a href='file:///Library/Frameworks/Python.framework/Versions/3.9/lib/python3.9/site-packages/torch/_tensor.py?line=676'>677</a>\u001b[0m \u001b[39mif\u001b[39;00m dtype \u001b[39mis\u001b[39;00m \u001b[39mNone\u001b[39;00m:\n\u001b[0;32m--> <a href='file:///Library/Frameworks/Python.framework/Versions/3.9/lib/python3.9/site-packages/torch/_tensor.py?line=677'>678</a>\u001b[0m     \u001b[39mreturn\u001b[39;00m \u001b[39mself\u001b[39;49m\u001b[39m.\u001b[39;49mnumpy()\n\u001b[1;32m    <a href='file:///Library/Frameworks/Python.framework/Versions/3.9/lib/python3.9/site-packages/torch/_tensor.py?line=678'>679</a>\u001b[0m \u001b[39melse\u001b[39;00m:\n\u001b[1;32m    <a href='file:///Library/Frameworks/Python.framework/Versions/3.9/lib/python3.9/site-packages/torch/_tensor.py?line=679'>680</a>\u001b[0m     \u001b[39mreturn\u001b[39;00m \u001b[39mself\u001b[39m\u001b[39m.\u001b[39mnumpy()\u001b[39m.\u001b[39mastype(dtype, copy\u001b[39m=\u001b[39m\u001b[39mFalse\u001b[39;00m)\n",
      "\u001b[0;31mRuntimeError\u001b[0m: Can't call numpy() on Tensor that requires grad. Use tensor.detach().numpy() instead."
     ]
    }
   ],
   "source": [
    "GDlsTracker.plt_ls(save_fname='g_loss', num_iter=10, type=GD.G)"
   ]
  }
 ],
 "metadata": {
  "interpreter": {
   "hash": "aee8b7b246df8f9039afb4144a1f6fd8d2ca17a180786b69acc140d282b71a49"
  },
  "kernelspec": {
   "display_name": "Python 3.9.7 64-bit",
   "language": "python",
   "name": "python3"
  },
  "language_info": {
   "codemirror_mode": {
    "name": "ipython",
    "version": 3
   },
   "file_extension": ".py",
   "mimetype": "text/x-python",
   "name": "python",
   "nbconvert_exporter": "python",
   "pygments_lexer": "ipython3",
   "version": "3.9.7"
  },
  "orig_nbformat": 4
 },
 "nbformat": 4,
 "nbformat_minor": 2
}

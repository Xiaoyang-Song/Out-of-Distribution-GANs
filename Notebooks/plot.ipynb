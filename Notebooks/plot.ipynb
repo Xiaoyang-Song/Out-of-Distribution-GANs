{
 "cells": [
  {
   "cell_type": "code",
   "execution_count": 7,
   "metadata": {},
   "outputs": [],
   "source": [
    "%load_ext autoreload\n",
    "%autoreload 2"
   ]
  },
  {
   "cell_type": "code",
   "execution_count": 6,
   "metadata": {},
   "outputs": [
    {
     "name": "stdout",
     "output_type": "stream",
     "text": [
      "[KeOps] Warning : Cuda libraries were not detected on the system ; using cpu only mode\n"
     ]
    }
   ],
   "source": [
    "import sys\n",
    "sys.path.append(\"../\")\n",
    "import numpy as np\n",
    "from itertools import product\n",
    "from matplotlib import pyplot as plt\n",
    "import seaborn as sns\n",
    "from simulation import *"
   ]
  },
  {
   "cell_type": "code",
   "execution_count": 41,
   "metadata": {},
   "outputs": [],
   "source": [
    "# N = [4, 8, 16, 32, 64, 128, 256, 512, 1024, 2048, 4096]\n",
    "N = np.arange(2, 13, 1)\n",
    "NEXP = [r'$\\mathregular{2^2}$',\n",
    "        r'$\\mathregular{2^3}$',\n",
    "        r'$\\mathregular{2^4}$',\n",
    "        r'$\\mathregular{2^5}$',\n",
    "        r'$\\mathregular{2^6}$',\n",
    "        r'$\\mathregular{2^7}$',\n",
    "        r'$\\mathregular{2^8}$',\n",
    "        r'$\\mathregular{2^9}$',\n",
    "        r'$\\mathregular{2^{10}}$',\n",
    "        r'$\\mathregular{2^{11}}$',\n",
    "        r'$\\mathregular{2^{12}}$']"
   ]
  },
  {
   "cell_type": "code",
   "execution_count": 51,
   "metadata": {},
   "outputs": [],
   "source": [
    "ODIN_95 = [44.13] * len(N)\n",
    "ODIN_99 = [27.60] * len(N)\n",
    "MAHA_95 = [67.09] * len(N)\n",
    "MAHA_99 = [42.14] * len(N)\n",
    "WOOD_95 = [100] * len(N)\n",
    "WOOD_99 = [100] * len(N)\n",
    "GAN_95 = [100] * len(N)\n",
    "GAN_99 = [100] * len(N)\n",
    "\n",
    "regime = 'I'\n",
    "dset = 'MNIST-FashionMNIST'"
   ]
  },
  {
   "cell_type": "code",
   "execution_count": 47,
   "metadata": {},
   "outputs": [],
   "source": [
    "# CIFAR10-SVHN\n",
    "\n",
    "ODIN_95 = [85.35] * len(N)\n",
    "ODIN_99 = [58.64] * len(N)\n",
    "MAHA_95 = [90.06] * len(N)\n",
    "MAHA_99 = [74.42] * len(N)\n",
    "WOOD_95 = [95.82, 96.72, 97.53, 98.20, 99.00, 98.95, 98.90, 99.17, 99.46, 99.51, 99.56]\n",
    "WOOD_99 = [90.27, 94.35, 95.87, 97.38, 98.17, 98.24, 98.12, 98.61, 99.05, 99.02, 99.15]\n",
    "GAN_95 = [99.09, 99.78, 100, 100, 99.92, 99.97, 99.96, 100, 100, 100, 100]\n",
    "GAN_99 = [98.42, 99.51, 100, 99.98, 99.90, 99.6, 99.81, 100, 100, 100, 100]\n",
    "\n",
    "regime = 'I'\n",
    "dset = 'CIFAR10-SVHN'\n",
    "n=11"
   ]
  },
  {
   "cell_type": "code",
   "execution_count": 54,
   "metadata": {},
   "outputs": [],
   "source": [
    "# MNIST\n",
    "\n",
    "ODIN_95 = [66.29] * len(N)\n",
    "ODIN_99 = [39.02] * len(N)\n",
    "MAHA_95 = [74.10] * len(N)\n",
    "MAHA_99 = [31.87] * len(N)\n",
    "WOOD_95 = [100] * len(N)\n",
    "WOOD_99 = [100] * len(N)\n",
    "GAN_95 = [100] * len(N)\n",
    "GAN_99 = [100] * len(N)\n",
    "\n",
    "regime = 'I'\n",
    "dset = 'MNIST'\n",
    "n=11"
   ]
  },
  {
   "cell_type": "code",
   "execution_count": 45,
   "metadata": {},
   "outputs": [],
   "source": [
    "# FashionMNIST\n",
    "ODIN_95 = [45.60] * len(N)\n",
    "ODIN_99 = [21.10] * len(N)\n",
    "MAHA_95 = [52.10] * len(N)\n",
    "MAHA_99 = [20.80] * len(N)\n",
    "WOOD_95 = [72.33, 78.25, 88.52, 93.90, 95.88, 96.78, 98.18, 98.60, 99.17, 99.40, 99.47]\n",
    "WOOD_99 = [49.43, 63.81, 81.00, 89.93, 92.82, 94.90, 96.10, 97.30, 97.95, 98.67, 98.87]\n",
    "GAN_95 = [79.37, 99.85, 99.95] + [100] * 8\n",
    "GAN_99 = [47.53, 98.33, 99.75] + [100] * 8\n",
    "\n",
    "regime = 'I'\n",
    "dset = 'FashionMNIST'\n",
    "n=11"
   ]
  },
  {
   "cell_type": "code",
   "execution_count": 39,
   "metadata": {},
   "outputs": [],
   "source": [
    "# SVHN\n",
    "ODIN_95 = [53.30] * len(N)\n",
    "ODIN_99 = [16.63] * len(N)\n",
    "MAHA_95 = [15.61] * len(N)\n",
    "MAHA_99 = [2.71] * len(N)\n",
    "WOOD_95 = [59.91, 69.20, 73.03, 83.95, 86.66, 90.33, 94.23, 95.55, 97.13, 97.48, 98.10]\n",
    "WOOD_99 = [18.74, 38.99, 49.89, 67.19, 74.29, 81.48, 86.81, 90.37, 93.33, 94.22, 95.63]\n",
    "GAN_95 = [61.93, 84.80, 92.13] + [100] * 8\n",
    "GAN_99 = [20.0, 77.28, 85.54] + [100] * 8\n",
    "\n",
    "regime = 'I'\n",
    "dset = 'SVHN'\n",
    "n=11"
   ]
  },
  {
   "cell_type": "code",
   "execution_count": 52,
   "metadata": {},
   "outputs": [],
   "source": [
    "plt.plot(N[0:n], WOOD_95[0:n], label=\"WOOD\", linestyle='solid', color='navy', marker='x', markersize=4, alpha=0.4)\n",
    "# plt.plot(N[0:n], WOOD_99[0:n], linestyle='dashed', color='navy', marker='x', markersize=4, alpha=0.5)\n",
    "\n",
    "plt.plot(N[0:n], GAN_95[0:n], label=\"OoD GAN\", linestyle='solid', color='purple', marker='s', markersize=4, alpha=0.4)\n",
    "# plt.plot(N[0:n], GAN_99[0:n], linestyle='dashed', color='red', marker='s', markersize=4, alpha=0.5)\n",
    "\n",
    "plt.plot(N[0:n], ODIN_95[0:n], label=\"ODIN\", linestyle='solid', color='green', marker='o', markersize=4)\n",
    "# plt.plot(N[0:n], ODIN_99[0:n], linestyle='dashed', color='green', marker='o', markersize=4)\n",
    "\n",
    "plt.plot(N[0:n], MAHA_95[0:n], label=\"MAHA\", linestyle='solid', color='gray', marker='v', markersize=4)\n",
    "# plt.plot(N[0:n], MAHA_99[0:n], linestyle='dashed', color='purple', marker='v', markersize=4)\n",
    "\n",
    "\n",
    "plt.legend(loc=4)\n",
    "# plt.xlabel(\"Number of Observed OoD Samples for Each Class\")\n",
    "plt.xticks(N, NEXP)\n",
    "plt.xlabel(\"Number of Observed OoD Samples for Each Selected Classes\")\n",
    "plt.ylabel(\"OoD Detection Accuracy (TPR)\")\n",
    "plt.title(f\"Experimental Results - Regime {regime} - {dset}\")\n",
    "plt.savefig(f\"../res/plot/{dset}-Regime-{regime}.jpg\", dpi=1000)\n",
    "# plt.show()\n",
    "plt.close()"
   ]
  },
  {
   "cell_type": "code",
   "execution_count": 55,
   "metadata": {},
   "outputs": [],
   "source": [
    "plt.plot(N[0:n], WOOD_99[0:n], label=\"WOOD\", linestyle='solid', color='navy', marker='x', markersize=4, alpha=1)\n",
    "# plt.plot(N[0:n], WOOD_99[0:n], linestyle='dashed', color='navy', marker='x', markersize=4, alpha=0.5)\n",
    "\n",
    "plt.plot(N[0:n], GAN_99[0:n], label=\"OoD GAN\", linestyle='solid', color='purple', marker='s', markersize=4, alpha=1)\n",
    "# plt.plot(N[0:n], GAN_99[0:n], linestyle='dashed', color='red', marker='s', markersize=4, alpha=0.5)\n",
    "\n",
    "plt.plot(N[0:n], ODIN_99[0:n], label=\"ODIN\", linestyle='solid', color='green', marker='o', markersize=4)\n",
    "# plt.plot(N[0:n], ODIN_99[0:n], linestyle='dashed', color='green', marker='o', markersize=4)\n",
    "\n",
    "plt.plot(N[0:n], MAHA_99[0:n], label=\"MAHA\", linestyle='solid', color='gray', marker='v', markersize=4)\n",
    "# plt.plot(N[0:n], MAHA_99[0:n], linestyle='dashed', color='purple', marker='v', markersize=4)\n",
    "\n",
    "\n",
    "plt.legend(loc=4)\n",
    "# plt.xlabel(\"Number of Observed OoD Samples for Each Class\")\n",
    "plt.xticks(N, NEXP)\n",
    "plt.xlabel(\"Number of Observed OoD Samples for Each Selected Classes\")\n",
    "plt.ylabel(\"OoD Detection Accuracy (TPR)\")\n",
    "plt.title(f\"Experimental Results - Regime {regime} - {dset}\")\n",
    "plt.savefig(f\"../res/plot/{dset}-Regime-{regime}-99.jpg\", dpi=1000)\n",
    "# plt.show()\n",
    "plt.close()"
   ]
  }
 ],
 "metadata": {
  "kernelspec": {
   "display_name": "Python 3",
   "language": "python",
   "name": "python3"
  },
  "language_info": {
   "codemirror_mode": {
    "name": "ipython",
    "version": 3
   },
   "file_extension": ".py",
   "mimetype": "text/x-python",
   "name": "python",
   "nbconvert_exporter": "python",
   "pygments_lexer": "ipython3",
   "version": "3.9.7"
  },
  "orig_nbformat": 4
 },
 "nbformat": 4,
 "nbformat_minor": 2
}

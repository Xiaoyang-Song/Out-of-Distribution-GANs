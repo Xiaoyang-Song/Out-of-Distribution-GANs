{
 "cells": [
  {
   "cell_type": "code",
   "execution_count": 1,
   "metadata": {},
   "outputs": [],
   "source": [
    "%load_ext autoreload\n",
    "%autoreload 2"
   ]
  },
  {
   "cell_type": "code",
   "execution_count": 2,
   "metadata": {},
   "outputs": [
    {
     "name": "stdout",
     "output_type": "stream",
     "text": [
      "[KeOps] Warning : Cuda libraries were not detected on the system ; using cpu only mode\n"
     ]
    }
   ],
   "source": [
    "import sys\n",
    "sys.path.append(\"../\")\n",
    "import numpy as np\n",
    "from itertools import product\n",
    "from matplotlib import pyplot as plt\n",
    "import seaborn as sns\n",
    "from simulation import *"
   ]
  },
  {
   "cell_type": "markdown",
   "metadata": {},
   "source": [
    "## Complied Results\n",
    "\n",
    "The following results are obtained from both `summary.txt` from baseline repository and this SEE-OOD repository. The path are provided as follows:\n",
    "1. SEE-OOD: `os.path.join('checkpoint', 'log', 'summary.txt')`\n",
    "2. Energy: `os.path.join('..', 'energy_ood', 'CIFAR', 'out', 'energy_baseline_summary.txt')`\n",
    "3. Energy + FT: `os.path.join('..', 'energy_ood', 'CIFAR', 'out', 'energy_summary.txt')`\n",
    "4. Outlier Exposure: `os.path.join('..', 'OE_ood', 'CIFAR', 'out', 'oe_summary.txt')`\n",
    "5. VOS: `os.path.join('..', 'vos', 'classification', 'CIFAR', 'jobs', 'SEEOOD_baselines', 'summary.txt')`\n",
    "6. ODIN: `os.path.join('..', 'deep_Mahalanobis_detector', 'jobs', 'SEEOOD_Baselines', 'summary.txt')`\n",
    "7. Maha: `os.path.join('..', 'deep_Mahalanobis_detector', 'jobs', 'SEEOOD_Baselines', 'summary.txt')`\n",
    "8. DeepSAD: `os.path.join('..', 'Deep-SAD-Pytorch', 'src', 'summary.txt')`\n",
    "9. ATD: `os.path.join('..', 'ATD', 'summary.txt')`\n",
    "\n",
    "Please make sure you are at the root level of this SEE-OOD repo when attempting to follow these paths."
   ]
  },
  {
   "cell_type": "code",
   "execution_count": 5,
   "metadata": {},
   "outputs": [],
   "source": [
    "# N = [16, 32, 64, 128, 256, 512, 1024, 2048, 4096]\n",
    "EXP_NAME = 'MNIST-FashionMNIST'\n",
    "N = 9\n",
    "NEXP = [r'$\\mathregular{2^4}$',\n",
    "        r'$\\mathregular{2^5}$',\n",
    "        r'$\\mathregular{2^6}$',\n",
    "        r'$\\mathregular{2^7}$',\n",
    "        r'$\\mathregular{2^8}$',\n",
    "        r'$\\mathregular{2^9}$',\n",
    "        r'$\\mathregular{2^{10}}$',\n",
    "        r'$\\mathregular{2^{11}}$',\n",
    "        r'$\\mathregular{2^{12}}$']"
   ]
  },
  {
   "cell_type": "markdown",
   "metadata": {},
   "source": [
    "### MNIST-FashionMNIST"
   ]
  },
  {
   "cell_type": "code",
   "execution_count": null,
   "metadata": {},
   "outputs": [],
   "source": [
    "if EXP_NAME == 'MNIST-FashionMNIST':\n",
    "    ODIN_95 = [44.13] * len(N)\n",
    "    ODIN_99 = [27.60] * len(N)\n",
    "\n",
    "    MAHA_95 = [67.09] * len(N)\n",
    "    MAHA_99 = [42.14] * len(N)\n",
    "\n",
    "    WOOD_95 = [100] * len(N)\n",
    "    WOOD_99 = [100] * len(N)\n",
    "\n",
    "    GAN_95 = [100] * len(N)\n",
    "    GAN_99 = [100] * len(N)\n",
    "\n",
    "    EFT_95 = [99.99] + [100] * 10\n",
    "    EFT_99 = [99.73, 99.81, 99.93, 99.95, 100, 99.98] + [100] * 5\n",
    "\n",
    "    VOS_95 = [80.95] * len(N)\n",
    "    VOS_99 = [47.27] * len(N)\n",
    "\n",
    "    E_95 = [77.72] * len(N)\n",
    "    E_99 = [35.98] * len(N)\n",
    "\n",
    "    GANSYN_95 = [96.61] * len(N)\n",
    "    GANSYN_99 = [76.09] * len(N)\n",
    "\n",
    "    regime = 'I'\n",
    "    dset = 'MNIST-FashionMNIST'"
   ]
  },
  {
   "cell_type": "markdown",
   "metadata": {},
   "source": [
    "### CIFAR10-SVHN"
   ]
  },
  {
   "cell_type": "code",
   "execution_count": null,
   "metadata": {},
   "outputs": [],
   "source": [
    "# CIFAR10-SVHN\n",
    "if EXP_NAME == 'CIFAR10-SVHN':\n",
    "    ODIN_95 = [81.47] * len(N)\n",
    "    ODIN_99 = [61.15] * len(N)\n",
    "\n",
    "    MAHA_95 = [88.13] * len(N)\n",
    "    MAHA_99 = [70.20] * len(N)\n",
    "\n",
    "    WOOD_95 = [95.82, 96.72, 97.53, 98.20, 99.00, 98.95, 98.90, 99.17, 99.46, 99.51, 99.56]\n",
    "    WOOD_99 = [90.27, 94.35, 95.87, 97.38, 98.17, 98.24, 98.12, 98.61, 99.05, 99.02, 99.15]\n",
    "\n",
    "    GAN_95 = [99.09, 99.78, 99.75, 100.0, 100.0, 99.92, 99.97, 99.96, 100, 100, 100]\n",
    "    GAN_99 = [98.42, 99.51, 99.62, 99.98, 100.0, 99.90, 99.96, 99.81, 100, 100, 99.91]\n",
    "\n",
    "    EFT_95 = [98.67, 99.01, 99.33, 99.64, 99.54, 99.79, 99.83, 99.92, 99.97, 99.96, 99.99]\n",
    "    EFT_99 = [96.50, 97.13, 97.76, 97.97, 98.43, 99.15, 99.37, 99.65, 99.88, 99.89, 99.91]\n",
    "\n",
    "    VOS_95 = [80.84] * len(N)\n",
    "    VOS_99 = [43.90] * len(N)\n",
    "\n",
    "    E_95 = [78.10] * len(N)\n",
    "    E_99 = [43.90] * len(N)\n",
    "\n",
    "    # GANSYN_95 = [] * len(N)\n",
    "    # GANSYN_99 = [] * len(N)\n",
    "\n",
    "    regime = 'I'\n",
    "    dset = 'CIFAR10-SVHN'\n",
    "    n=11"
   ]
  },
  {
   "cell_type": "markdown",
   "metadata": {},
   "source": [
    "### MNIST"
   ]
  },
  {
   "cell_type": "code",
   "execution_count": null,
   "metadata": {},
   "outputs": [],
   "source": [
    "# MNIST\n",
    "if EXP_NAME == 'MNIST':\n",
    "    ODIN_95 = [66.29] * len(N)\n",
    "    ODIN_99 = [39.02] * len(N)\n",
    "\n",
    "    MAHA_95 = [74.10] * len(N)\n",
    "    MAHA_99 = [31.87] * len(N)\n",
    "\n",
    "    WOOD_95 = [100] * len(N)\n",
    "    WOOD_99 = [100] * len(N)\n",
    "\n",
    "    GAN_95 = [100] * len(N)\n",
    "    GAN_99 = [100] * len(N)\n",
    "\n",
    "    EFT_95 = [99.86, 99.88, 99.74, 99.84, 99.80, 99.94, 99.80, 99.98, 100, 100, 100]\n",
    "    EFT_99 = [97.29, 97.93, 97.39, 98.63, 98.59, 99.24, 99.28, 99.70, 99.82, 99.90, 99.96]\n",
    "\n",
    "    VOS_95 = [98.62] * len(N)\n",
    "    VOS_99 = [86.72] * len(N)\n",
    "\n",
    "    E_95 = [99.10] * len(N)\n",
    "    E_99 = [92.63] * len(N)\n",
    "\n",
    "    GANSYN_95 = [99.30] * len(N)\n",
    "    GANSYN_99 = [91.29] * len(N)\n",
    "\n",
    "    regime = 'I'\n",
    "    dset = 'MNIST'\n",
    "    n=11"
   ]
  },
  {
   "cell_type": "markdown",
   "metadata": {},
   "source": [
    "### FashionMNIST-R1"
   ]
  },
  {
   "cell_type": "code",
   "execution_count": null,
   "metadata": {},
   "outputs": [],
   "source": [
    "# FashionMNIST Regime I\n",
    "if EXP_NAME == 'FashionMNIST':\n",
    "    ODIN_95 = [68.60] * len(N)\n",
    "    ODIN_99 = [40.40] * len(N)\n",
    "\n",
    "    MAHA_95 = [55.90] * len(N)\n",
    "    MAHA_99 = [38.60] * len(N)\n",
    "\n",
    "    WOOD_95 = [72.33, 78.25, 88.52, 93.90, 95.88, 96.78, 98.18, 98.60, 99.17, 99.40, 99.47]\n",
    "    WOOD_99 = [49.43, 63.81, 81.00, 89.93, 92.82, 94.90, 96.10, 97.30, 97.95, 98.67, 98.87]\n",
    "\n",
    "    GAN_95 = [79.37, 99.85, 99.95] + [100] * 8\n",
    "    GAN_99 = [47.53, 98.33, 99.75] + [100] * 8\n",
    "\n",
    "    EFT_95 = [75.34, 84.80, 90.99, 93.95, 95.55, 97.03, 96.33, 96.90, 97.29, 97.84, 98.58]\n",
    "    EFT_99 = [56.96, 64.96, 76.54, 84.71, 87.65, 91.59, 90.99, 93.03, 94.88, 96.20, 96.88]\n",
    "\n",
    "    VOS_95 = [59.86] * len(N)\n",
    "    VOS_99 = [32.45] * len(N)\n",
    "\n",
    "    E_95 = [65.25] * len(N)\n",
    "    E_99 = [35.74] * len(N)\n",
    "\n",
    "    GANSYN_95 = [41.81] * len(N)\n",
    "    GANSYN_99 = [21.08] * len(N)\n",
    "\n",
    "\n",
    "    regime = 'I'\n",
    "    dset = 'FashionMNIST'\n",
    "    n=11"
   ]
  },
  {
   "cell_type": "markdown",
   "metadata": {},
   "source": [
    "### FashionMNIST-R2"
   ]
  },
  {
   "cell_type": "code",
   "execution_count": null,
   "metadata": {},
   "outputs": [],
   "source": [
    "# FashionMNIST Regime II\n",
    "if EXP_NAME == 'FashionMNIST-R2':\n",
    "    WOOD_95 = [50.07, 52.08, 56.60, 59.92, 65.88, 62.18, 62.98, 62.57, 65.33, 68.00, 66.15]\n",
    "    WOOD_99 = [26.23, 38.43, 41.30, 46.05, 49.45, 50.07, 50.72, 51.83, 53.83, 53.30, 53.52]\n",
    "\n",
    "    GAN_95 = [48.28, 71.27, 97.70, 96.82, 98.83, 97.25, 97.93, 100.0, 100.0, 99.08, 99.18]\n",
    "    GAN_99 = [15.08, 33.80, 85.97, 86.75, 94.02, 94.50, 95.65, 100.0, 100.0, 97.18, 97.62]\n",
    "\n",
    "    EFT_95 = [69.40, 70.08, 71.23, 70.35, 70.38, 69.77, 70.15, 72.64, 76.09, 72.50, 70.32]\n",
    "    EFT_99 = [49.61, 50.23, 51.97, 53.81, 56.04, 55.23, 55.59, 57.04, 58.90, 56.30, 55.64]\n",
    "\n",
    "    regime = 'II'\n",
    "    dset = 'FashionMNIST'\n",
    "    n=11"
   ]
  },
  {
   "cell_type": "markdown",
   "metadata": {},
   "source": [
    "### SVHN-R1"
   ]
  },
  {
   "cell_type": "code",
   "execution_count": null,
   "metadata": {},
   "outputs": [],
   "source": [
    "# SVHN\n",
    "if EXP_NAME == 'SVHN':\n",
    "    ODIN_95 = [70.38] * len(N)\n",
    "    ODIN_99 = [38.27] * len(N)\n",
    "\n",
    "    MAHA_95 = [21.55] * len(N)\n",
    "    MAHA_99 = [5.10] * len(N)\n",
    "\n",
    "    WOOD_95 = [59.91, 69.20, 73.03, 83.95, 86.66, 90.33, 94.23, 95.55, 97.13, 97.48, 98.10]\n",
    "    WOOD_99 = [18.74, 38.99, 49.89, 67.19, 74.29, 81.48, 86.81, 90.37, 93.33, 94.22, 95.63]\n",
    "\n",
    "    GAN_95 = [59.01, 95.45, 98.64, 99.61, 99.88, 99.76, 100.0, 100.0, 100.0, 100.0, 100.0]\n",
    "    GAN_99 = [18.41, 75.59, 90.96, 98.01, 99.50, 99.26, 99.92, 100.0, 100.0, 100.0, 100.0]\n",
    "\n",
    "    EFT_95 = [81.54, 81.87, 86.08, 87.96, 91.24, 92.60, 94.22, 94.84, 95.58, 96.59, 97.60]\n",
    "    EFT_99 = [53.52, 54.35, 61.81, 66.94, 72.69, 76.37, 79.42, 81.32, 86.02, 88.17, 89.86]\n",
    "\n",
    "    VOS_95 = [65.93] * len(N)\n",
    "    VOS_99 = [25.59] * len(N)\n",
    "\n",
    "    E_95 = [72.72] * len(N)\n",
    "    E_99 = [38.53] * len(N)\n",
    "\n",
    "    GANSYN_95 = [34.41] * len(N)\n",
    "    GANSYN_99 = [9.97] * len(N)\n",
    "\n",
    "\n",
    "    regime = 'I'\n",
    "    dset = 'SVHN'\n",
    "    n=11"
   ]
  },
  {
   "cell_type": "markdown",
   "metadata": {},
   "source": [
    "### SVHN Regime II"
   ]
  },
  {
   "cell_type": "code",
   "execution_count": null,
   "metadata": {},
   "outputs": [],
   "source": [
    "# SVHN Regime II\n",
    "if EXP_NAME == 'SVHN-R2':\n",
    "    WOOD_95 = [52.04, 57.09, 64.13, 67.44, 75.77, 78.60, 79.98, 84.28, 85.73, 86.25, 88.13]\n",
    "    WOOD_99 = [13.50, 16.82, 23.71, 32.44, 48.04, 54.25, 55.90, 62.43, 66.84, 68.14, 69.25]\n",
    "\n",
    "    GAN_95 = [41.47, 42.68, 84.64, 92.25, 98.42, 98.96, 99.67, 100.0, 100.0, 100.0, 100.0]\n",
    "    GAN_99 = [11.76, 14.39, 52.57, 65.48, 92.30, 95.13, 98.17, 100.0, 99.95, 100.0, 99.96]\n",
    "\n",
    "    EFT_95 = [75.79, 79.82, 81.57, 85.65, 88.14, 91.55, 90.91, 91.83, 92.41, 90.63, 91.24]\n",
    "    EFT_99 = [41.97, 48.73, 51.00, 58.31, 64.49, 70.38, 69.43, 73.58, 75.33, 72.69, 73.70]\n",
    "\n",
    "    regime = 'II'\n",
    "    dset = 'SVHN'\n",
    "    n=11"
   ]
  },
  {
   "cell_type": "markdown",
   "metadata": {},
   "source": [
    "### 95TNR"
   ]
  },
  {
   "cell_type": "code",
   "execution_count": 144,
   "metadata": {},
   "outputs": [],
   "source": [
    "mksz = 6\n",
    "lw = 1.8\n",
    "s=2\n",
    "fontsize=10\n",
    "\n",
    "plt.plot(N[s:n], GAN_95[s:n], label=\"SEE-OoD\", linestyle='solid', marker='s', linewidth=lw, markersize=mksz, alpha=1)\n",
    "\n",
    "plt.plot(N[s:n], WOOD_95[s:n], label=\"WOOD\", linestyle='solid', marker='x', linewidth=lw, markersize=mksz, alpha=1)\n",
    "\n",
    "plt.plot(N[s:n], EFT_95[s:n], label=\"Energy+FT\", linestyle='solid', linewidth=lw, marker='o', markersize=mksz, alpha=1)\n",
    "\n",
    "# plt.plot(N[s:n], ODIN_95[s:n], label=\"ODIN\", linestyle='solid', linewidth=lw, marker='v', markersize=mksz)\n",
    "\n",
    "# plt.plot(N[s:n], MAHA_95[s:n], label=\"MAHA\", linestyle='solid', linewidth=lw, marker='^', markersize=mksz)\n",
    "\n",
    "# plt.plot(N[s:n], VOS_95[s:n], label=\"VOS\", linestyle='solid', linewidth=lw, marker='>', markersize=mksz)\n",
    "\n",
    "# plt.plot(N[s:n], E_95[s:n], label=\"Energy\", linestyle='solid', linewidth=lw, marker='<', markersize=mksz)\n",
    "\n",
    "# plt.plot(N[s:n], GANSYN_95[s:n], label=\"GAN-Syn\", linestyle='solid', linewidth=lw, marker='+', markersize=mksz)\n",
    "\n",
    "\n",
    "\n",
    "\n",
    "plt.legend(loc=4)\n",
    "# plt.xlabel(\"Number of Observed OoD Samples for Each Class\")\n",
    "plt.xticks(N[s:n], NEXP[s:n], fontdict={'fontsize': 12})\n",
    "plt.xlabel(\"Number of OoD samples for SELECTED class\", fontdict={'fontsize': 14})\n",
    "plt.ylabel(\"TPR (%)\", fontdict={'fontsize': 13})\n",
    "plt.title(f\"Regime {regime} - {dset} - TPR at 95 TNR\", fontdict={'fontsize': 16})\n",
    "plt.savefig(f\"../res/plot/{dset}-Regime-{regime}.jpg\", dpi=1500)\n",
    "# plt.show()\n",
    "plt.close()"
   ]
  },
  {
   "cell_type": "markdown",
   "metadata": {},
   "source": [
    "### 99TNR"
   ]
  },
  {
   "cell_type": "code",
   "execution_count": 145,
   "metadata": {},
   "outputs": [],
   "source": [
    "mksz = 6\n",
    "lw = 1.8\n",
    "s=2\n",
    "fontsize=10\n",
    "\n",
    "plt.plot(N[s:n], GAN_99[s:n], label=\"SEE-OoD\", linestyle='solid', marker='s', linewidth=lw, markersize=mksz, alpha=1)\n",
    "\n",
    "plt.plot(N[s:n], WOOD_99[s:n], label=\"WOOD\", linestyle='solid', marker='x', linewidth=lw, markersize=mksz, alpha=1)\n",
    "\n",
    "plt.plot(N[s:n], EFT_99[s:n], label=\"Energy+FT\", linestyle='solid', linewidth=lw, marker='o', markersize=mksz)\n",
    "\n",
    "# plt.plot(N[s:n], ODIN_99[s:n], label=\"ODIN\", linestyle='solid', linewidth=lw, marker='v', markersize=mksz)\n",
    "\n",
    "# plt.plot(N[s:n], MAHA_99[s:n], label=\"MAHA\", linestyle='solid', linewidth=lw, marker='^', markersize=mksz)\n",
    "\n",
    "# plt.plot(N[s:n], VOS_99[s:n], label=\"VOS\", linestyle='solid', linewidth=lw, marker='>', markersize=mksz)\n",
    "\n",
    "# plt.plot(N[s:n], E_99[s:n], label=\"Energy\", linestyle='solid', linewidth=lw, marker='<', markersize=mksz)\n",
    "\n",
    "# plt.plot(N[s:n], GANSYN_99[s:n], label=\"GAN-Syn\", linestyle='solid', linewidth=lw, marker='+', markersize=mksz)\n",
    "\n",
    "plt.legend(loc=4)\n",
    "# plt.xlabel(\"Number of Observed OoD Samples for Each Class\")\n",
    "plt.xticks(N[s:n], NEXP[s:n], fontdict={'fontsize': 12})\n",
    "plt.xlabel(\"Number of OoD samples for SELECTED class\", fontdict={'fontsize': 14})\n",
    "plt.ylabel(\"TPR (%)\", fontdict={'fontsize': 13})\n",
    "plt.title(f\"Regime {regime} - {dset} - TPR at 99 TNR\", fontdict={'fontsize': 16})\n",
    "plt.savefig(f\"../res/plot/{dset}-Regime-{regime}-99.jpg\", dpi=1500)\n",
    "# plt.show()\n",
    "plt.close()"
   ]
  },
  {
   "cell_type": "markdown",
   "metadata": {},
   "source": [
    "## Simulation plots"
   ]
  },
  {
   "cell_type": "code",
   "execution_count": 3,
   "metadata": {},
   "outputs": [],
   "source": [
    "from simulation import *"
   ]
  },
  {
   "cell_type": "code",
   "execution_count": 8,
   "metadata": {},
   "outputs": [
    {
     "data": {
      "text/plain": [
       "<All keys matched successfully>"
      ]
     },
     "execution_count": 8,
     "metadata": {},
     "output_type": "execute_result"
    }
   ],
   "source": [
    "ckpt_dir = os.path.join('..', 'checkpoint', 'Simulation')\n",
    "IND_DATA, IND_X, IND_Y = torch.load(os.path.join(ckpt_dir, 'data', 'ind_data.pt'))\n",
    "OOD_DATA, OOD_X, OOD_Y = torch.load(os.path.join(ckpt_dir, 'data', 'ood_data.pt'))\n",
    "IND_DATA_TEST, IND_X_TEST, IND_Y_TEST = torch.load(os.path.join(ckpt_dir, 'data', 'ind_data_test.pt'))\n",
    "IND_CLS, OOD_CLS = torch.load(os.path.join(ckpt_dir, 'data', 'ind_ood_cls.pt'))\n",
    "OOD_BATCH = torch.load(os.path.join(ckpt_dir, 'data', 'OoDs' ,'OOD_2.pt'))\n",
    "\n",
    "D_GAN = DSIM(128)\n",
    "G_GAN = GSIM(128)\n",
    "\n",
    "setting = 'II'\n",
    "\n",
    "D_GAN.load_state_dict(torch.load(os.path.join(ckpt_dir, 'checkpoint', setting, 'D_GAN.pt')))\n",
    "G_GAN.load_state_dict(torch.load(os.path.join(ckpt_dir, 'checkpoint', setting, 'G_GAN.pt')))\n",
    "\n",
    "D_WOOD = DSIM(128)\n",
    "D_WOOD.load_state_dict(torch.load(os.path.join(ckpt_dir, 'checkpoint', setting, 'D_WOOD.pt')))"
   ]
  },
  {
   "cell_type": "code",
   "execution_count": 10,
   "metadata": {},
   "outputs": [],
   "source": [
    "def plot_heatmap_v2(IND_X, IND_Y, IND_X_TEST, IND_Y_TEST, OOD_X, OOD_Y, OOD_BATCH, D, G, method, ind_cls, ood_cls, \n",
    "                 ind_idx, ood_idx, title, path=None, tnr=0.99, lb=0, ub=7,m=100, f=None):\n",
    "    # print(m)\n",
    "    fig, ax = plt.subplots()\n",
    "    with torch.no_grad():\n",
    "        # Generated samples\n",
    "        if G is not None:\n",
    "            n_gen = 10\n",
    "            seed = torch.rand((n_gen, 2), device=DEVICE)\n",
    "            Gz = G(seed).detach().numpy()\n",
    "            lb_g = np.floor(np.min(Gz)) - 1\n",
    "            ub_g = np.floor(np.max(Gz)) + 1\n",
    "            lb = min(lb_g, lb)\n",
    "            ub = max(ub_g, ub)\n",
    "        \n",
    "        xi = np.linspace(lb, ub, m, endpoint=True)\n",
    "        yi = np.linspace(lb, ub, m, endpoint=True)\n",
    "        xy_pos = np.array(list(product(xi, yi)))\n",
    "        zi = torch.softmax(D(torch.tensor(xy_pos, dtype=torch.float32)), dim=-1)\n",
    "        # print(zi.shape)\n",
    "        si = ood_wass_loss(zi)\n",
    "        threshold, _ = calculate_accuracy(D=D, ind=IND_X, ood=OOD_X, tnr=tnr)\n",
    "        mask = si > threshold\n",
    "    print(f\"Rejection Threshold: {threshold}\")\n",
    "    print(f\"Rejection Region Proportion: {100 * sum(mask) / len(mask):.2f}%\")\n",
    "    if f is not None:\n",
    "        f.write(f\"Rejection Threshold: {threshold}\\n\")\n",
    "        f.write(f\"Rejection Region Proportion: {100 * sum(mask) / len(mask):.2f}%\\n\")\n",
    "    # Plot\n",
    "    # Heatmap\n",
    "    plt.pcolormesh(xi, yi, si.reshape((m, m)).T, shading='auto',cmap='inferno', alpha=1)\n",
    "    plt.colorbar()\n",
    "    plt.pcolormesh(xi, yi, mask.reshape((m, m)).T, shading='auto',cmap='gray', alpha=0.15)\n",
    "    # InD and OoD\n",
    "    # IND Training\n",
    "    for i, idx in enumerate(ind_cls):\n",
    "        if i == 0:\n",
    "            plt.scatter(IND_X[:,0][IND_Y==idx][ind_idx], IND_X[:,1][IND_Y==idx][ind_idx], c='white', label =\"InD\", marker='^',sizes=[30]*len(IND_X), alpha=1)\n",
    "        else:\n",
    "            plt.scatter(IND_X[:,0][IND_Y==idx][ind_idx], IND_X[:,1][IND_Y==idx][ind_idx], c='white', marker='^',sizes=[30]*len(IND_X), alpha=1)\n",
    "    # OOD BATCH\n",
    "    plt.scatter(OOD_BATCH[:,0], OOD_BATCH[:,1], c='navy', label=\"OoD\",marker='^', sizes=[30]*len(OOD_X), alpha=1)\n",
    "    # IND Test\n",
    "    for idx in ind_cls:\n",
    "        plt.scatter(IND_X_TEST[:,0][IND_Y_TEST==idx][ind_idx], IND_X_TEST[:,1][IND_Y_TEST==idx][ind_idx], c='white', sizes=[30]*len(IND_X), alpha=0.3)\n",
    "    # OOD\n",
    "    for idx in ood_cls:\n",
    "        plt.scatter(OOD_X[:,0][OOD_Y==idx][ood_idx], OOD_X[:,1][OOD_Y==idx][ood_idx], c='navy', sizes=[30]*len(OOD_X), alpha=0.3)\n",
    "\n",
    "    if G is not None:\n",
    "        plt.scatter(Gz[:,0], Gz[:,1], marker='x', c='#00b384', sizes=[30]*n_gen, alpha=0.5)\n",
    "    # plt.title(f\"{method} W-Score Heatmap\", fontdict={'fontsize': 14.5})\n",
    "    plt.title(title, fontdict={'fontsize': 14.5})\n",
    "    plt.xlabel(\"X1\", fontdict={'fontsize': 13})\n",
    "    plt.ylabel(\"X2\", fontdict={'fontsize': 13})\n",
    "    # Legend Processing\n",
    "    leg = plt.legend()\n",
    "    ax.add_artist(leg)\n",
    "    if G is not None:\n",
    "        markers = ['^', 'o', 'x']\n",
    "        legends = ['Training Data', 'Testing Data', 'Generated Data']\n",
    "    else:\n",
    "        markers = ['^', 'o']\n",
    "        legends = ['Training Data', 'Testing Data']\n",
    "\n",
    "    h = [plt.plot([],[], color=\"navy\", marker=mk, ls=\"\",ms=5)[0] for mk in markers]\n",
    "    plt.legend(handles=h, labels=legends, loc='lower right')\n",
    "    # Save plots\n",
    "    if path is None:\n",
    "        plt.savefig(f\"simulation_log/plot/{method}.jpg\", dpi=1500)\n",
    "    else:\n",
    "        plt.savefig(path, dpi=1500)\n",
    "    # plt.show()\n",
    "    plt.close()\n",
    "    # return plt"
   ]
  },
  {
   "cell_type": "code",
   "execution_count": null,
   "metadata": {},
   "outputs": [],
   "source": [
    "plot_heatmap_v2(IND_X, IND_Y, IND_X_TEST, IND_Y_TEST, OOD_X, OOD_Y, OOD_BATCH, D_WOOD, None, 'WOOD', \n",
    "            IND_CLS, OOD_CLS, [0, 1, 2], [3], title=\"WOOD Wasserstein Score Heatmap\",\n",
    "            path='WD.jpg', tnr=0.95, lb=-1, ub=7, m=300)"
   ]
  },
  {
   "cell_type": "code",
   "execution_count": null,
   "metadata": {},
   "outputs": [
    {
     "name": "stdout",
     "output_type": "stream",
     "text": [
      "Rejection Threshold: 0.01407177359797058\n",
      "Rejection Region Proportion: 51.72%\n"
     ]
    }
   ],
   "source": [
    "plot_heatmap_v2(IND_X, IND_Y, IND_X_TEST, IND_Y_TEST, OOD_X, OOD_Y, OOD_BATCH, D_GAN, G_GAN, 'SEE-OOD', \n",
    "            IND_CLS, OOD_CLS, [0, 1, 2], [3], title=f\"SEE-OoD Wasserstein Score Heatmap - Setting {setting}\"\n",
    "            path=f'{setting}.jpg', tnr=0.95, lb=-1, ub=7, m=300)"
   ]
  },
  {
   "cell_type": "markdown",
   "metadata": {},
   "source": [
    "# Case study"
   ]
  },
  {
   "cell_type": "code",
   "execution_count": 7,
   "metadata": {},
   "outputs": [
    {
     "data": {
      "image/png": "[encoded data removed]",
      "text/plain": [
       "<Figure size 640x480 with 1 Axes>"
      ]
     },
     "metadata": {},
     "output_type": "display_data"
    }
   ],
   "source": [
    "N = [50, 100, 500, 1000, 1500, 2000]\n",
    "tpr95 = [69.6, 75.00, 86.64, 92.9, 93.33, 93.12]\n",
    "tpr99 = [47.54, 53.73, 81.49, 89.48, 89.57, 89.55]\n",
    "auroc = [93.80, 93.07, 96.29, 98.47, 98.87, 98.77]\n",
    "acc = [97.06, 97.16, 97.18, 97.67, 98.76, 98.42]\n",
    "mksz = 6\n",
    "lw = 1.8\n",
    "s=2\n",
    "fontsize=10\n",
    "\n",
    "plt.plot(N, tpr95, label=\"TPR@95TNR\", linestyle='solid', marker='s',  color=\"blue\", linewidth=lw, markersize=mksz, alpha=1)\n",
    "plt.plot(N, tpr99, label=\"TPR@99TNR\", linestyle='solid', marker='s', color='lightblue' ,linewidth=lw, markersize=mksz, alpha=1)\n",
    "plt.plot(N, auroc, label=\"AUROC\", linestyle='solid', marker='s',  color='red',linewidth=lw, markersize=mksz, alpha=1)\n",
    "plt.plot(N, acc, label=\"InD Accuracy\", linestyle='-', marker='x', color='black',linewidth=lw, markersize=mksz, alpha=1)\n",
    "\n",
    "plt.legend(loc=4)\n",
    "# plt.xlabel(\"Number of Observed OoD Samples for Each Class\")\n",
    "plt.xticks(N,N, fontdict={'fontsize': 9}, rotation=45)\n",
    "plt.grid(axis='y', linestyle='--', alpha=0.7) \n",
    "plt.xlabel(\"Number of Observed OoD samples\", fontdict={'fontsize': 14})\n",
    "plt.ylabel(\"%\", fontdict={'fontsize': 13})\n",
    "plt.title(f\"OoD Detection Results - Case Study\", fontdict={'fontsize': 16})\n",
    "plt.savefig(f\"case.jpg\", dpi=500)\n",
    "# plt.show()\n",
    "# plt.close()"
   ]
  },
  {
   "cell_type": "code",
   "execution_count": null,
   "metadata": {},
   "outputs": [],
   "source": []
  }
 ],
 "metadata": {
  "kernelspec": {
   "display_name": "OoD",
   "language": "python",
   "name": "python3"
  },
  "language_info": {
   "codemirror_mode": {
    "name": "ipython",
    "version": 3
   },
   "file_extension": ".py",
   "mimetype": "text/x-python",
   "name": "python",
   "nbconvert_exporter": "python",
   "pygments_lexer": "ipython3",
   "version": "3.9.7"
  },
  "orig_nbformat": 4
 },
 "nbformat": 4,
 "nbformat_minor": 2
}

{
 "cells": [
  {
   "cell_type": "markdown",
   "metadata": {},
   "source": [
    "### Wasserstein Distance Toy Example"
   ]
  },
  {
   "cell_type": "code",
   "execution_count": 2,
   "metadata": {},
   "outputs": [
    {
     "name": "stdout",
     "output_type": "stream",
     "text": [
      "[KeOps] Warning : Cuda libraries were not detected on the system ; using cpu only mode\n"
     ]
    }
   ],
   "source": [
    "import sys\n",
    "sys.path.insert(0, '../')\n",
    "\n",
    "from config import *\n",
    "from dataset import MNIST, CIFAR10\n",
    "from models.mnist_cnn import MNISTCNN\n",
    "from trainer import train\n",
    "\n",
    "%load_ext autoreload\n",
    "%autoreload 2"
   ]
  },
  {
   "cell_type": "markdown",
   "metadata": {},
   "source": [
    "#### Load Training & Validation Datasets \\& Dataloaders"
   ]
  },
  {
   "cell_type": "code",
   "execution_count": 2,
   "metadata": {},
   "outputs": [],
   "source": [
    "mnist_tri_set, mnist_val_set, mnist_tri_loader, mnist_val_loader = MNIST(64, 32)\n",
    "cifar_tri_set, cifar_val_set , cifar_tri_loader, cifar_val_loader = MNIST(64, 32)\n",
    "# TODO: Show dataset statistics and sample images."
   ]
  },
  {
   "cell_type": "markdown",
   "metadata": {},
   "source": [
    "#### Training a toy CNN using MNIST\n",
    "We first train a toy CNN model on MNIST dataset."
   ]
  },
  {
   "cell_type": "code",
   "execution_count": 59,
   "metadata": {},
   "outputs": [
    {
     "name": "stderr",
     "output_type": "stream",
     "text": [
      "  0%|          | 0/8 [00:00<?, ?it/s]"
     ]
    },
    {
     "name": "stdout",
     "output_type": "stream",
     "text": [
      "Epoch  # 1 | training loss: 0.3848905004084364               | training acc: 0.8981709754797441\n",
      "Epoch  # 1 | validation loss: 0.12933876934184577               | validation acc: 0.9618610223642172\n"
     ]
    },
    {
     "name": "stderr",
     "output_type": "stream",
     "text": [
      " 12%|█▎        | 1/8 [00:48<05:41, 48.73s/it]"
     ]
    },
    {
     "name": "stdout",
     "output_type": "stream",
     "text": [
      "Epoch  # 2 | training loss: 0.10788713700161862               | training acc: 0.9676839019189766\n",
      "Epoch  # 2 | validation loss: 0.07408166525252431               | validation acc: 0.9759384984025559\n"
     ]
    },
    {
     "name": "stderr",
     "output_type": "stream",
     "text": [
      " 25%|██▌       | 2/8 [01:34<04:43, 47.28s/it]"
     ]
    },
    {
     "name": "stdout",
     "output_type": "stream",
     "text": [
      "Epoch  # 3 | training loss: 0.07097873537091792               | training acc: 0.9788945895522388\n",
      "Epoch  # 3 | validation loss: 0.056490876822880794               | validation acc: 0.9819289137380192\n"
     ]
    },
    {
     "name": "stderr",
     "output_type": "stream",
     "text": [
      " 38%|███▊      | 3/8 [02:20<03:52, 46.53s/it]"
     ]
    },
    {
     "name": "stdout",
     "output_type": "stream",
     "text": [
      "Epoch  # 4 | training loss: 0.053240704025625425               | training acc: 0.9840585021321961\n",
      "Epoch  # 4 | validation loss: 0.04801741873299366               | validation acc: 0.9838258785942492\n"
     ]
    },
    {
     "name": "stderr",
     "output_type": "stream",
     "text": [
      " 50%|█████     | 4/8 [03:06<03:05, 46.45s/it]"
     ]
    },
    {
     "name": "stdout",
     "output_type": "stream",
     "text": [
      "Epoch  # 5 | training loss: 0.042140562839684204               | training acc: 0.9872734541577826\n",
      "Epoch  # 5 | validation loss: 0.04270411640732817               | validation acc: 0.9856230031948882\n"
     ]
    },
    {
     "name": "stderr",
     "output_type": "stream",
     "text": [
      " 62%|██████▎   | 5/8 [03:52<02:18, 46.30s/it]"
     ]
    },
    {
     "name": "stdout",
     "output_type": "stream",
     "text": [
      "Epoch  # 6 | training loss: 0.03438922276883361               | training acc: 0.9897554637526652\n",
      "Epoch  # 6 | validation loss: 0.03906521868500019               | validation acc: 0.9866214057507987\n"
     ]
    },
    {
     "name": "stderr",
     "output_type": "stream",
     "text": [
      " 75%|███████▌  | 6/8 [04:39<01:32, 46.24s/it]"
     ]
    },
    {
     "name": "stdout",
     "output_type": "stream",
     "text": [
      "Epoch  # 7 | training loss: 0.028456401200597992               | training acc: 0.9917044243070362\n",
      "Epoch  # 7 | validation loss: 0.03671928080491405               | validation acc: 0.9876198083067093\n"
     ]
    },
    {
     "name": "stderr",
     "output_type": "stream",
     "text": [
      " 88%|████████▊ | 7/8 [05:26<00:46, 46.45s/it]"
     ]
    },
    {
     "name": "stdout",
     "output_type": "stream",
     "text": [
      "Epoch  # 8 | training loss: 0.023756266558138683               | training acc: 0.9932869136460555\n",
      "Epoch  # 8 | validation loss: 0.03605541249888951               | validation acc: 0.9877196485623003\n"
     ]
    },
    {
     "name": "stderr",
     "output_type": "stream",
     "text": [
      "100%|██████████| 8/8 [06:12<00:00, 46.53s/it]\n"
     ]
    }
   ],
   "source": [
    "model = MNISTCNN().to(DEVICE)\n",
    "train(model = model, train_loader=mnist_tri_loader, val_loader=mnist_val_loader, num_epoch=8)"
   ]
  },
  {
   "cell_type": "code",
   "execution_count": 23,
   "metadata": {},
   "outputs": [],
   "source": [
    "torch.save(model, MODEL_SAVE_PATH)"
   ]
  },
  {
   "cell_type": "code",
   "execution_count": 3,
   "metadata": {},
   "outputs": [],
   "source": [
    "model = torch.load(MODEL_SAVE_PATH)"
   ]
  },
  {
   "cell_type": "markdown",
   "metadata": {},
   "source": [
    "#### Wasserstein Distance"
   ]
  },
  {
   "cell_type": "code",
   "execution_count": 15,
   "metadata": {},
   "outputs": [],
   "source": [
    "def cost_matrix(X, Y):\n",
    "    # TODO: Change this to more generic version\n",
    "    if len(X.shape) == 2:\n",
    "        N,D = X.shape\n",
    "        M,D = Y.shape\n",
    "        return (1 - torch.eye(N, M)).to(DEVICE)\n",
    "    \n",
    "    if len(X.shape) == 3:\n",
    "        B,N,D = X.shape\n",
    "        B,M,D = Y.shape\n",
    "        return torch.unsqueeze(1 - torch.eye(N, M), 0).repeat(B, 1, 1).to(DEVICE)"
   ]
  },
  {
   "cell_type": "code",
   "execution_count": 6,
   "metadata": {},
   "outputs": [],
   "source": [
    "def label_2_onehot(label, C, device):\n",
    "    # transform the InD labels into one-hot vector\n",
    "    assert type(label) == torch.Tensor\n",
    "\n",
    "    size = label.shape[0]\n",
    "    if len(label.shape) == 1:\n",
    "        label = torch.unsqueeze(label, 1)\n",
    "    \n",
    "    label = label % C\n",
    "    \n",
    "    label_onehot = torch.FloatTensor(size, C).to(device)\n",
    "\n",
    "    label_onehot.zero_()\n",
    "    label_onehot.scatter_(1, label, 1)\n",
    "    return label_onehot"
   ]
  },
  {
   "cell_type": "code",
   "execution_count": 60,
   "metadata": {},
   "outputs": [],
   "source": [
    "def sink_dist_test(input, target, C, device):\n",
    "    \n",
    "    test_label_onehot = label_2_onehot(target, C, device)\n",
    "    test_label_onehot = torch.unsqueeze(test_label_onehot, -1)\n",
    "    test_input = torch.unsqueeze(input, -1)\n",
    "    ##Loss value for InD samples \n",
    "    #Wasserstein-1 distance\n",
    "    # test_loss = SamplesLoss(\"sinkhorn\", p=2, blur=1., cost=cost_matrix)\n",
    "    test_loss = SamplesLoss(\"sinkhorn\", p=2, blur=1.)\n",
    "    # ic(test_input.shape)\n",
    "    # ic(test_input[:,:,0].shape)\n",
    "    # ic(test_label_onehot[:,:,0].shape)\n",
    "    # ic(test_label_onehot.shape)\n",
    "    test_loss_value = test_loss(test_input[:,:,0], test_input, test_label_onehot[:,:,0], test_label_onehot)\n",
    "    \n",
    "    return test_loss_value\n",
    "\n",
    "def sink_dist_test_v2(input, C, device):\n",
    "    \n",
    "    all_class = torch.LongTensor([i for i in range(C)]).to(device)\n",
    "    all_class_onehot = label_2_onehot(all_class, C, device)\n",
    "    ##reshape into (B,N,D)\n",
    "    all_class_onehot = torch.unsqueeze(all_class_onehot, -1)\n",
    "    test_input = torch.unsqueeze(input, -1)\n",
    "    test_batch_size = test_input.shape[0]\n",
    "    test_loss_values = torch.zeros(test_batch_size, C).to(device)\n",
    "    # Approximate Wasserstein distance\n",
    "    test_loss = SamplesLoss(\"sinkhorn\", p=2, blur=1., cost = cost_matrix) \n",
    "    # ic(test_batch_size)\n",
    "    for b in range(test_batch_size):\n",
    "        # ic(test_input.shape)\n",
    "        input_b = test_input[b:b+1,:,:].repeat(C, 1, 1)\n",
    "        # ic(input_b.shape)\n",
    "        # ic(input_b[0:1,:,0].shape)\n",
    "        # ic(all_class_onehot[:,:,0].shape)\n",
    "        # ic(all_class_onehot.shape)\n",
    "        # Modified the line below\n",
    "        test_loss_values[b] = torch.tensor([test_loss(input_b[c:c+1,:,0], input_b[c:c+1:,:], all_class_onehot[c:c+1,:,0], \\\n",
    "                                            all_class_onehot[c:c+1:,:]) for c in range(C)])\n",
    "    \n",
    "    return test_loss_values.min(dim=1)[0]\n"
   ]
  },
  {
   "cell_type": "markdown",
   "metadata": {},
   "source": [
    "#### Wasserstein Distance Toy Example Sanity Check"
   ]
  },
  {
   "cell_type": "code",
   "execution_count": 52,
   "metadata": {},
   "outputs": [],
   "source": [
    "# Simple Sanity Check\n",
    "def example_wass_loss_ind(img_id_lst):\n",
    "    wass_loss = []\n",
    "    for id in img_id_lst:\n",
    "        test_sample, test_label = mnist_tri_set.__getitem__(id)\n",
    "        # ic(test_sample.shape)\n",
    "        test_logits = model(test_sample.unsqueeze(0))\n",
    "        test_softmax = torch.softmax(test_logits, dim=-1)\n",
    "        # ic(test_softmax.shape)\n",
    "        # pred = torch.argmax(test_logits, dim=1)\n",
    "        # ic(test_softmax)\n",
    "        # ic(pred)\n",
    "        # ic(test_label)\n",
    "        # one_hot_eg = label_2_onehot(torch.tensor([test_label]), 10, DEVICE)\n",
    "        sample_wass_loss = sink_dist_test(test_softmax, torch.tensor([test_label]), 10, DEVICE)\n",
    "        wass_loss.append(sample_wass_loss)\n",
    "    return torch.tensor(wass_loss)"
   ]
  },
  {
   "cell_type": "code",
   "execution_count": 42,
   "metadata": {},
   "outputs": [
    {
     "name": "stderr",
     "output_type": "stream",
     "text": [
      "ic| mnist_tri_set: Dataset MNIST\n",
      "                       Number of datapoints: 60000\n",
      "                       Root location: ./Datasets\n",
      "                       Split: Train\n",
      "                       StandardTransform\n",
      "                   Transform: Compose(\n",
      "                                  ToTensor()\n",
      "                              )\n",
      "ic| cifar_tri_set: Dataset MNIST\n",
      "                       Number of datapoints: 60000\n",
      "                       Root location: ./Datasets\n",
      "                       Split: Train\n",
      "                       StandardTransform\n",
      "                   Transform: Compose(\n",
      "                                  ToTensor()\n",
      "                              )\n"
     ]
    },
    {
     "data": {
      "text/plain": [
       "Dataset MNIST\n",
       "    Number of datapoints: 60000\n",
       "    Root location: ./Datasets\n",
       "    Split: Train\n",
       "    StandardTransform\n",
       "Transform: Compose(\n",
       "               ToTensor()\n",
       "           )"
      ]
     },
     "execution_count": 42,
     "metadata": {},
     "output_type": "execute_result"
    }
   ],
   "source": [
    "ic(mnist_tri_set)\n",
    "ic(cifar_tri_set)"
   ]
  },
  {
   "cell_type": "code",
   "execution_count": 79,
   "metadata": {},
   "outputs": [
    {
     "name": "stderr",
     "output_type": "stream",
     "text": [
      "ic| mean_wass_loss_ind: tensor(0.0020)\n"
     ]
    },
    {
     "data": {
      "text/plain": [
       "tensor(0.0020)"
      ]
     },
     "execution_count": 79,
     "metadata": {},
     "output_type": "execute_result"
    }
   ],
   "source": [
    "def run_ind_wass_loss_mc():\n",
    "    img_id_lst = torch.randint(low=0, high=60000, size=(2000,))\n",
    "    wass_loss_eg = example_wass_loss_ind(img_id_lst)\n",
    "    mean_wass_loss = torch.mean(wass_loss_eg)\n",
    "    return wass_loss_eg, mean_wass_loss\n",
    "\n",
    "wass_loss_eg_ind, mean_wass_loss_ind = run_ind_wass_loss_mc()\n",
    "ic(mean_wass_loss_ind)\n",
    "# Experiments using Monte Carlo replications\n",
    "# num_mc, ind_mc_results = 10, []\n",
    "# for mc in range(num_mc):\n",
    "#     wass_loss_eg, mean_wass_loss = run_ind_wass_loss_mc()\n",
    "#     ind_mc_results.append(mean_wass_loss)\n",
    "# ic(np.mean(ind_mc_results))"
   ]
  },
  {
   "cell_type": "code",
   "execution_count": 82,
   "metadata": {},
   "outputs": [
    {
     "name": "stderr",
     "output_type": "stream",
     "text": [
      "ic| mean_wass_loss_ood: tensor(0.0033)\n"
     ]
    },
    {
     "data": {
      "text/plain": [
       "tensor(0.0033)"
      ]
     },
     "execution_count": 82,
     "metadata": {},
     "output_type": "execute_result"
    }
   ],
   "source": [
    "# Sanity Check\n",
    "def example_wass_loss_ood(img_id_lst):\n",
    "    wass_loss = []\n",
    "    for id in img_id_lst:\n",
    "        OOD_sample = cifar_tri_set.__getitem__(id)[0].mean(0, keepdim=True)\n",
    "        OOD_logits = model(OOD_sample.unsqueeze(0))\n",
    "        # ic(OOD_logits.shape)\n",
    "        OOD_softmax = torch.softmax(OOD_logits, dim=1)\n",
    "        # ic(OOD_softmax.shape)\n",
    "        # pred = torch.argmax(OOD_logits, dim=1)\n",
    "        # ic(OOD_softmax)\n",
    "        # ic(pred)\n",
    "        # Sanity check for OOD wasserstein distance\n",
    "        OOD_wass_loss = sink_dist_test_v2(input=OOD_softmax, C=torch.tensor(10), device=DEVICE)\n",
    "        # ic(OOD_wass_loss)\n",
    "        wass_loss.append(OOD_wass_loss)\n",
    "    return torch.tensor(wass_loss)    \n",
    "\n",
    "def run_ood_wass_loss_mc():\n",
    "    img_id_lst = torch.randint(low=0, high=60000, size=(2000,))\n",
    "    wass_loss_eg = example_wass_loss_ood(img_id_lst)\n",
    "    mean_wass_loss = torch.mean(wass_loss_eg)\n",
    "    return wass_loss_eg, mean_wass_loss\n",
    "\n",
    "wass_loss_eg_ood, mean_wass_loss_ood = run_ood_wass_loss_mc()\n",
    "ic(mean_wass_loss_ood)\n",
    "# num_mc, ood_mc_results = 10, []\n",
    "# for mc in range(num_mc):\n",
    "#     img_id_lst = torch.randint(low=0, high=60000, size=(2000,))\n",
    "#     wass_loss_eg = example_wass_loss_ood(img_id_lst)\n",
    "#     mean_wass_loss = torch.mean(wass_loss_eg)\n",
    "#     # ic(mean_wass_loss)\n",
    "#     ood_mc_results.append(mean_wass_loss)\n",
    "# ic(np.mean(ood_mc_results))"
   ]
  },
  {
   "cell_type": "markdown",
   "metadata": {},
   "source": [
    "#### Visualize Toy Examples"
   ]
  },
  {
   "cell_type": "code",
   "execution_count": 83,
   "metadata": {},
   "outputs": [
    {
     "name": "stderr",
     "output_type": "stream",
     "text": [
      "ic| len(wass_loss_eg_ind): 2000\n"
     ]
    },
    {
     "data": {
      "image/png": "[encoded data removed]",
      "text/plain": [
       "<Figure size 432x288 with 1 Axes>"
      ]
     },
     "metadata": {
      "needs_background": "light"
     },
     "output_type": "display_data"
    },
    {
     "name": "stderr",
     "output_type": "stream",
     "text": [
      "ic| len(wass_loss_eg_ood): 2000\n"
     ]
    },
    {
     "data": {
      "text/plain": [
       "2000"
      ]
     },
     "execution_count": 83,
     "metadata": {},
     "output_type": "execute_result"
    }
   ],
   "source": [
    "# Plot in-distribution data points wass loss\n",
    "ic(len(wass_loss_eg_ind))\n",
    "plt.scatter(wass_loss_eg_ind, np.zeros(2000))\n",
    "plt.scatter(wass_loss_eg_ood, np.ones(2000))\n",
    "plt.show()\n",
    "# Plot ood data points wass loss\n",
    "ic(len(wass_loss_eg_ood))\n"
   ]
  }
 ],
 "metadata": {
  "interpreter": {
   "hash": "aee8b7b246df8f9039afb4144a1f6fd8d2ca17a180786b69acc140d282b71a49"
  },
  "kernelspec": {
   "display_name": "Python 3.9.7 64-bit",
   "language": "python",
   "name": "python3"
  },
  "language_info": {
   "codemirror_mode": {
    "name": "ipython",
    "version": 3
   },
   "file_extension": ".py",
   "mimetype": "text/x-python",
   "name": "python",
   "nbconvert_exporter": "python",
   "pygments_lexer": "ipython3",
   "version": "3.9.7"
  },
  "orig_nbformat": 4
 },
 "nbformat": 4,
 "nbformat_minor": 2
}
